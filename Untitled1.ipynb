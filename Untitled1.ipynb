{
 "cells": [
  {
   "cell_type": "code",
   "execution_count": 2,
   "metadata": {},
   "outputs": [],
   "source": [
    "import pandas as pd\n",
    "import seaborn as sns\n",
    "%matplotlib inline"
   ]
  },
  {
   "cell_type": "code",
   "execution_count": 3,
   "metadata": {},
   "outputs": [],
   "source": [
    "top20dis = pd.read_csv(\"data/IN/top20dis2007.csv\")\n",
    "top20ord = pd.read_csv(\"data/IN/top20ord2007.csv\")"
   ]
  },
  {
   "cell_type": "code",
   "execution_count": 4,
   "metadata": {},
   "outputs": [
    {
     "data": {
      "text/html": [
       "<div>\n",
       "<style>\n",
       "    .dataframe thead tr:only-child th {\n",
       "        text-align: right;\n",
       "    }\n",
       "\n",
       "    .dataframe thead th {\n",
       "        text-align: left;\n",
       "    }\n",
       "\n",
       "    .dataframe tbody tr th {\n",
       "        vertical-align: top;\n",
       "    }\n",
       "</style>\n",
       "<table border=\"1\" class=\"dataframe\">\n",
       "  <thead>\n",
       "    <tr style=\"text-align: right;\">\n",
       "      <th></th>\n",
       "      <th>name</th>\n",
       "      <th>n prot</th>\n",
       "      <th>n families</th>\n",
       "      <th>avg_len</th>\n",
       "      <th>Z-score</th>\n",
       "      <th>P-value</th>\n",
       "    </tr>\n",
       "  </thead>\n",
       "  <tbody>\n",
       "    <tr>\n",
       "      <th>0</th>\n",
       "      <td>Ribonucleoprotein</td>\n",
       "      <td>12236</td>\n",
       "      <td>412</td>\n",
       "      <td>150.55</td>\n",
       "      <td>22.13</td>\n",
       "      <td>1</td>\n",
       "    </tr>\n",
       "    <tr>\n",
       "      <th>1</th>\n",
       "      <td>Ribosomal protein</td>\n",
       "      <td>11692</td>\n",
       "      <td>330</td>\n",
       "      <td>140.58</td>\n",
       "      <td>20.63</td>\n",
       "      <td>1</td>\n",
       "    </tr>\n",
       "    <tr>\n",
       "      <th>2</th>\n",
       "      <td>Developmental protein</td>\n",
       "      <td>3260</td>\n",
       "      <td>721</td>\n",
       "      <td>477.93</td>\n",
       "      <td>19.28</td>\n",
       "      <td>1</td>\n",
       "    </tr>\n",
       "    <tr>\n",
       "      <th>3</th>\n",
       "      <td>Hormone</td>\n",
       "      <td>1187</td>\n",
       "      <td>161</td>\n",
       "      <td>141.13</td>\n",
       "      <td>15.58</td>\n",
       "      <td>1</td>\n",
       "    </tr>\n",
       "    <tr>\n",
       "      <th>4</th>\n",
       "      <td>Growth factor</td>\n",
       "      <td>785</td>\n",
       "      <td>84</td>\n",
       "      <td>255.70</td>\n",
       "      <td>11.16</td>\n",
       "      <td>1</td>\n",
       "    </tr>\n",
       "  </tbody>\n",
       "</table>\n",
       "</div>"
      ],
      "text/plain": [
       "                    name  n prot  n families  avg_len  Z-score  P-value\n",
       "0      Ribonucleoprotein   12236         412   150.55    22.13        1\n",
       "1      Ribosomal protein   11692         330   140.58    20.63        1\n",
       "2  Developmental protein    3260         721   477.93    19.28        1\n",
       "3                Hormone    1187         161   141.13    15.58        1\n",
       "4          Growth factor     785          84   255.70    11.16        1"
      ]
     },
     "execution_count": 4,
     "metadata": {},
     "output_type": "execute_result"
    }
   ],
   "source": [
    "top20dis.head()"
   ]
  },
  {
   "cell_type": "code",
   "execution_count": 5,
   "metadata": {},
   "outputs": [
    {
     "data": {
      "text/html": [
       "<div>\n",
       "<style>\n",
       "    .dataframe thead tr:only-child th {\n",
       "        text-align: right;\n",
       "    }\n",
       "\n",
       "    .dataframe thead th {\n",
       "        text-align: left;\n",
       "    }\n",
       "\n",
       "    .dataframe tbody tr th {\n",
       "        vertical-align: top;\n",
       "    }\n",
       "</style>\n",
       "<table border=\"1\" class=\"dataframe\">\n",
       "  <thead>\n",
       "    <tr style=\"text-align: right;\">\n",
       "      <th></th>\n",
       "      <th>n prot</th>\n",
       "      <th>n families</th>\n",
       "      <th>Z-score</th>\n",
       "    </tr>\n",
       "  </thead>\n",
       "  <tbody>\n",
       "    <tr>\n",
       "      <th>n prot</th>\n",
       "      <td>1.000000</td>\n",
       "      <td>0.514029</td>\n",
       "      <td>0.831845</td>\n",
       "    </tr>\n",
       "    <tr>\n",
       "      <th>n families</th>\n",
       "      <td>0.514029</td>\n",
       "      <td>1.000000</td>\n",
       "      <td>0.580846</td>\n",
       "    </tr>\n",
       "    <tr>\n",
       "      <th>Z-score</th>\n",
       "      <td>0.831845</td>\n",
       "      <td>0.580846</td>\n",
       "      <td>1.000000</td>\n",
       "    </tr>\n",
       "  </tbody>\n",
       "</table>\n",
       "</div>"
      ],
      "text/plain": [
       "              n prot  n families   Z-score\n",
       "n prot      1.000000    0.514029  0.831845\n",
       "n families  0.514029    1.000000  0.580846\n",
       "Z-score     0.831845    0.580846  1.000000"
      ]
     },
     "execution_count": 5,
     "metadata": {},
     "output_type": "execute_result"
    }
   ],
   "source": [
    "top20dis[['n prot', 'n families', 'Z-score']].corr()"
   ]
  },
  {
   "cell_type": "code",
   "execution_count": 6,
   "metadata": {},
   "outputs": [
    {
     "data": {
      "text/html": [
       "<div>\n",
       "<style>\n",
       "    .dataframe thead tr:only-child th {\n",
       "        text-align: right;\n",
       "    }\n",
       "\n",
       "    .dataframe thead th {\n",
       "        text-align: left;\n",
       "    }\n",
       "\n",
       "    .dataframe tbody tr th {\n",
       "        vertical-align: top;\n",
       "    }\n",
       "</style>\n",
       "<table border=\"1\" class=\"dataframe\">\n",
       "  <thead>\n",
       "    <tr style=\"text-align: right;\">\n",
       "      <th></th>\n",
       "      <th>n prot</th>\n",
       "      <th>n families</th>\n",
       "      <th>Z-score</th>\n",
       "    </tr>\n",
       "  </thead>\n",
       "  <tbody>\n",
       "    <tr>\n",
       "      <th>n prot</th>\n",
       "      <td>1.000000</td>\n",
       "      <td>0.941303</td>\n",
       "      <td>-0.795280</td>\n",
       "    </tr>\n",
       "    <tr>\n",
       "      <th>n families</th>\n",
       "      <td>0.941303</td>\n",
       "      <td>1.000000</td>\n",
       "      <td>-0.759525</td>\n",
       "    </tr>\n",
       "    <tr>\n",
       "      <th>Z-score</th>\n",
       "      <td>-0.795280</td>\n",
       "      <td>-0.759525</td>\n",
       "      <td>1.000000</td>\n",
       "    </tr>\n",
       "  </tbody>\n",
       "</table>\n",
       "</div>"
      ],
      "text/plain": [
       "              n prot  n families   Z-score\n",
       "n prot      1.000000    0.941303 -0.795280\n",
       "n families  0.941303    1.000000 -0.759525\n",
       "Z-score    -0.795280   -0.759525  1.000000"
      ]
     },
     "execution_count": 6,
     "metadata": {},
     "output_type": "execute_result"
    }
   ],
   "source": [
    "top20ord[['n prot', 'n families', 'Z-score']].corr()"
   ]
  },
  {
   "cell_type": "code",
   "execution_count": 7,
   "metadata": {},
   "outputs": [
    {
     "data": {
      "text/plain": [
       "<matplotlib.axes._subplots.AxesSubplot at 0x7f484d10b4e0>"
      ]
     },
     "execution_count": 7,
     "metadata": {},
     "output_type": "execute_result"
    },
    {
     "data": {
      "image/png": "[encoded data removed]",
      "text/plain": [
       "<matplotlib.figure.Figure at 0x7f484d161c18>"
      ]
     },
     "metadata": {},
     "output_type": "display_data"
    }
   ],
   "source": [
    "sns.regplot('n prot', 'Z-score', data=top20dis,  marker=\"+\")"
   ]
  },
  {
   "cell_type": "code",
   "execution_count": 8,
   "metadata": {},
   "outputs": [
    {
     "data": {
      "text/plain": [
       "<matplotlib.axes._subplots.AxesSubplot at 0x7f488766f208>"
      ]
     },
     "execution_count": 8,
     "metadata": {},
     "output_type": "execute_result"
    },
    {
     "data": {
      "image/png": "[encoded data removed]",
      "text/plain": [
       "<matplotlib.figure.Figure at 0x7f48452e4e10>"
      ]
     },
     "metadata": {},
     "output_type": "display_data"
    }
   ],
   "source": [
    "sns.regplot('n prot', 'Z-score', data=top20ord,  marker=\"+\")"
   ]
  }
 ],
 "metadata": {
  "kernelspec": {
   "display_name": "Python [conda env:master]",
   "language": "python",
   "name": "conda-env-master-py"
  },
  "language_info": {
   "codemirror_mode": {
    "name": "ipython",
    "version": 3
   },
   "file_extension": ".py",
   "mimetype": "text/x-python",
   "name": "python",
   "nbconvert_exporter": "python",
   "pygments_lexer": "ipython3",
   "version": "3.6.3"
  }
 },
 "nbformat": 4,
 "nbformat_minor": 2
}
