{
 "cells": [
  {
   "cell_type": "code",
   "execution_count": 1,
   "metadata": {
    "collapsed": true
   },
   "outputs": [],
   "source": [
    "from Bio import SeqIO\n",
    "from Bio.Seq import Seq\n",
    "from Bio.SeqRecord import SeqRecord\n",
    "from Bio.Alphabet import IUPAC\n",
    "\n",
    "import re\n",
    "import numpy as np\n",
    "\n",
    "import helper_functions\n",
    "\n",
    "import numpy as np\n",
    "import pandas as pd"
   ]
  },
  {
   "cell_type": "code",
   "execution_count": 2,
   "metadata": {},
   "outputs": [],
   "source": [
    "%run settings/plt_settings.ipynb"
   ]
  },
  {
   "cell_type": "code",
   "execution_count": 3,
   "metadata": {
    "collapsed": true
   },
   "outputs": [],
   "source": [
    "_all_valid_AA_code = \"RKDEQNHSTYCMWAILFVPG\"\n",
    "_invalid_AA_regex = \"[^%s]\" % _all_valid_AA_code #negacija svih validnih\n",
    "\n",
    "assert( len(_all_valid_AA_code) == 20 )\n",
    "\n",
    "def AA_is_valid(seq, invalid_regex=None):\n",
    "    ''' Return True if no invalid AA code can be found ''' \n",
    "    return not re.search(invalid_regex or _invalid_AA_regex, seq)\n",
    "\n",
    "def AA_show_invalid(seq, invalid_regex=None):\n",
    "    ''' Return Counter object showing all iregularites '''\n",
    "    return Counter(re.findall(invallid_regex or _invalid_AA_regex, seq))\n",
    "\n"
   ]
  },
  {
   "cell_type": "markdown",
   "metadata": {},
   "source": [
    "###  Ucitavamo proteine"
   ]
  },
  {
   "cell_type": "code",
   "execution_count": 5,
   "metadata": {},
   "outputs": [
    {
     "name": "stdout",
     "output_type": "stream",
     "text": [
      "ukupno originalnih proteina: 66841\n"
     ]
    }
   ],
   "source": [
    "all_proteins = [r for r in SeqIO.parse(\"data/IN/CAFA3_training_data/uniprot_sprot_exp.fasta\", \"fasta\")]\n",
    "print(\"ukupno originalnih proteina:\", len(all_proteins))"
   ]
  },
  {
   "cell_type": "code",
   "execution_count": 6,
   "metadata": {},
   "outputs": [
    {
     "name": "stdout",
     "output_type": "stream",
     "text": [
      "ukupno validnih proteina: 66599\n",
      "validnih >=40AK: 66063\n"
     ]
    }
   ],
   "source": [
    "all_valid_proteins = [r for r in all_proteins \n",
    "                            if AA_is_valid(str(r.seq)) and len(r.seq)>=9] #minimum 9 jer vsl2b ne podrzva manje\n",
    "\n",
    "print(\"ukupno validnih proteina:\", len(all_valid_proteins))\n",
    "print(\"validnih >=40AK:\", sum( len(r.seq)>40 for r in all_valid_proteins ) )"
   ]
  },
  {
   "cell_type": "code",
   "execution_count": 8,
   "metadata": {},
   "outputs": [
    {
     "data": {
      "text/plain": [
       "66254"
      ]
     },
     "execution_count": 8,
     "metadata": {},
     "output_type": "execute_result"
    }
   ],
   "source": []
  },
  {
   "cell_type": "markdown",
   "metadata": {},
   "source": [
    "###  Cuvamo validne proteine u valid_proteins.fasta"
   ]
  },
  {
   "cell_type": "raw",
   "metadata": {},
   "source": [
    "with  open(\"data/IN/valid_proteins.fasta\", \"w\") as valid:\n",
    "    for record in all_valid_proteins:\n",
    "        SeqIO.write(record, valid, \"fasta\")"
   ]
  },
  {
   "cell_type": "markdown",
   "metadata": {},
   "source": [
    "### Random i Uniform modele "
   ]
  },
  {
   "cell_type": "code",
   "execution_count": 7,
   "metadata": {
    "collapsed": true
   },
   "outputs": [],
   "source": [
    "def AAfequency(records):\n",
    "    \"\"\"generate a dict that represents a free variable for AA code\n",
    "       based on AA sequence in fasta file \n",
    "    \"\"\"\n",
    "    from collections import Counter\n",
    "    c = Counter()\n",
    "    N = 0 # ukupna duzina svih proteina\n",
    "    for record in records:\n",
    "        c.update(record.seq)\n",
    "        N += len(record.seq) \n",
    "\n",
    "    return { ak: k/N   for ak, k in c.items()}\n",
    "\n",
    "AAfreq = AAfequency(all_valid_proteins)"
   ]
  },
  {
   "cell_type": "raw",
   "metadata": {},
   "source": [
    "def random_model_generator(AAfreq=None):\n",
    "    if AAfreq is None:\n",
    "        global _all_valid_AA_code\n",
    "        a = np.array( [c for c in _all_valid_AA_code] )\n",
    "        p = np.array( [1/20 for _ in range(20)] )\n",
    "    else:\n",
    "        a = np.array(list(AAfreq.keys()))\n",
    "        p = np.array(list(AAfreq.values()))\n",
    "        \n",
    "    return lambda n: \"\".join(np.random.choice(a=a, size=n, p=p))\n",
    "\n",
    "uniform_sequnce_generator = random_model_generator()\n",
    "random_sequnce_generator = random_model_generator(AAfreq)"
   ]
  },
  {
   "cell_type": "markdown",
   "metadata": {},
   "source": [
    "### Crtamo AK ucestalosti"
   ]
  },
  {
   "cell_type": "code",
   "execution_count": 8,
   "metadata": {},
   "outputs": [
    {
     "data": {
      "text/html": [
       "<div>\n",
       "<style>\n",
       "    .dataframe thead tr:only-child th {\n",
       "        text-align: right;\n",
       "    }\n",
       "\n",
       "    .dataframe thead th {\n",
       "        text-align: left;\n",
       "    }\n",
       "\n",
       "    .dataframe tbody tr th {\n",
       "        vertical-align: top;\n",
       "    }\n",
       "</style>\n",
       "<table border=\"1\" class=\"dataframe\">\n",
       "  <thead>\n",
       "    <tr style=\"text-align: right;\">\n",
       "      <th></th>\n",
       "      <th>id</th>\n",
       "      <th>id3</th>\n",
       "      <th>name</th>\n",
       "      <th>avg</th>\n",
       "      <th>exact</th>\n",
       "      <th>duno</th>\n",
       "      <th>p</th>\n",
       "    </tr>\n",
       "  </thead>\n",
       "  <tbody>\n",
       "    <tr>\n",
       "      <th>0</th>\n",
       "      <td>G</td>\n",
       "      <td>Gly</td>\n",
       "      <td>Glycine</td>\n",
       "      <td>75.07</td>\n",
       "      <td>75.03</td>\n",
       "      <td>57</td>\n",
       "      <td>0.064621</td>\n",
       "    </tr>\n",
       "    <tr>\n",
       "      <th>1</th>\n",
       "      <td>A</td>\n",
       "      <td>Ala</td>\n",
       "      <td>Alanine</td>\n",
       "      <td>89.10</td>\n",
       "      <td>89.05</td>\n",
       "      <td>71</td>\n",
       "      <td>0.071057</td>\n",
       "    </tr>\n",
       "    <tr>\n",
       "      <th>2</th>\n",
       "      <td>S</td>\n",
       "      <td>Ser</td>\n",
       "      <td>Serine</td>\n",
       "      <td>105.09</td>\n",
       "      <td>105.04</td>\n",
       "      <td>87</td>\n",
       "      <td>0.081890</td>\n",
       "    </tr>\n",
       "    <tr>\n",
       "      <th>3</th>\n",
       "      <td>P</td>\n",
       "      <td>Pro</td>\n",
       "      <td>Proline</td>\n",
       "      <td>115.13</td>\n",
       "      <td>115.05</td>\n",
       "      <td>97</td>\n",
       "      <td>0.055120</td>\n",
       "    </tr>\n",
       "    <tr>\n",
       "      <th>4</th>\n",
       "      <td>V</td>\n",
       "      <td>Val</td>\n",
       "      <td>Valine</td>\n",
       "      <td>117.15</td>\n",
       "      <td>117.08</td>\n",
       "      <td>99</td>\n",
       "      <td>0.062784</td>\n",
       "    </tr>\n",
       "  </tbody>\n",
       "</table>\n",
       "</div>"
      ],
      "text/plain": [
       "  id  id3     name     avg   exact  duno         p\n",
       "0  G  Gly  Glycine   75.07   75.03    57  0.064621\n",
       "1  A  Ala  Alanine   89.10   89.05    71  0.071057\n",
       "2  S  Ser   Serine  105.09  105.04    87  0.081890\n",
       "3  P  Pro  Proline  115.13  115.05    97  0.055120\n",
       "4  V  Val   Valine  117.15  117.08    99  0.062784"
      ]
     },
     "execution_count": 8,
     "metadata": {},
     "output_type": "execute_result"
    }
   ],
   "source": [
    "ak_info = pd.read_csv('data/ak_info', sep=' ', escapechar='\\\\' )\n",
    "\n",
    "AAfreq_df=pd.DataFrame.from_dict(AAfreq, orient='index', )\n",
    "AAfreq_df.columns = ['p']\n",
    "ak_info = ak_info.merge(AAfreq_df, left_on='id', right_index=True)\n",
    "\n",
    "ak_info.head()"
   ]
  },
  {
   "cell_type": "code",
   "execution_count": 9,
   "metadata": {},
   "outputs": [],
   "source": [
    "disorder_promoting = \"GASPQKER\"\n",
    "order_promoting = \"VCILNFW\""
   ]
  },
  {
   "cell_type": "code",
   "execution_count": 27,
   "metadata": {},
   "outputs": [
    {
     "data": {
      "image/png": "[encoded data removed]",
      "text/plain": [
       "<matplotlib.figure.Figure at 0x7f7343ad0780>"
      ]
     },
     "metadata": {},
     "output_type": "display_data"
    }
   ],
   "source": [
    "fig, ax = plt.subplots() \n",
    "\n",
    "color_red = (1,0.35,0.2)\n",
    "color_green = 'limegreen'\n",
    "color_gray = \"0.5\"\n",
    "\n",
    "bars = ax.bar(ak_info.index, ak_info.p, 0.6)\n",
    "\n",
    "_ = plt.xticks(ak_info.index, ak_info.id)\n",
    "plt.tick_params(which='major', axis='x', length=0)\n",
    "\n",
    "\n",
    "for bar, ak in zip(bars, ak_info.id):\n",
    "    bar.set_color( ak in disorder_promoting and color_red or\n",
    "                   ak in order_promoting    and color_green or color_gray)\n",
    "\n",
    "ax.set_xlim(-.5, 19.5)\n",
    "ax.set_ylim(0, 0.1)\n",
    "ax.set_yticks( np.linspace(0, 0.1, 6))\n",
    "ax.grid(which='major', axis='x')\n",
    "\n",
    "line, = ax.plot((-1,20), (1/20, 1/20), c='0.25', lw=0.75, label='uniformni model') \n",
    "\n",
    "import matplotlib.patches as mpatches\n",
    "red_patch = mpatches.Patch(color=color_red, label='promovišu neuređenost')\n",
    "green_patch = mpatches.Patch(color=color_green, label='promovišu uređenost')\n",
    "gay_patch = mpatches.Patch(color=color_gray, label=' nemaju afinitet')\n",
    "\n",
    "\n",
    "#ax.set_title(\"Učestalost aminokiselina u podacima\")\n",
    "ax.set_xlabel(\"Aminokiseline\")\n",
    "ax.set_ylabel(\"Učestalost\")\n",
    "\n",
    "\n",
    "ax.text(-0.5, -0.010, '$%dD$a'%ak_info.iloc[0].avg, fontsize=7, )\n",
    "ax.text(19.5, -0.010, '$%dD$a'%ak_info.iloc[-1].avg, fontsize=7, ha=\"right\")\n",
    "ax.legend(handles=[red_patch, green_patch, gay_patch, line], fontsize=8)\n",
    "\n",
    "\n",
    "plt.savefig(\"plots/AK_ucestalost.pdf\")"
   ]
  },
  {
   "cell_type": "markdown",
   "metadata": {},
   "source": [
    "#  generisemo random i uniformne varijante i cuvamo u fajl\n",
    "\n",
    "Ovo radimo samo jedanput na pocetku"
   ]
  },
  {
   "cell_type": "code",
   "execution_count": 8,
   "metadata": {
    "collapsed": true
   },
   "outputs": [],
   "source": [
    "def makeRandomRecord(org_record, model):\n",
    "    return SeqRecord( Seq( model(len(org_record.seq)), IUPAC.protein)\n",
    "                      , id=org_record.id, name=org_record.name, description=\"\" )"
   ]
  },
  {
   "cell_type": "raw",
   "metadata": {},
   "source": [
    "with  open(\"data/IN/random_model_proteins.fasta\", \"w\")  as random   \\\n",
    "    , open(\"data/IN/uniform_model_proteins.fasta\", \"w\") as uniform:\n",
    "\n",
    "    for record in all_valid_proteins:\n",
    "        \n",
    "        rand_r = makeRandomRecord(record, random_sequnce_generator)\n",
    "        uniform_r = makeRandomRecord(record, uniform_sequnce_generator) \n",
    "        \n",
    "        SeqIO.write(rand_r, random, \"fasta\")\n",
    "        SeqIO.write(uniform_r, uniform, \"fasta\")\n",
    "\n",
    "        \n"
   ]
  }
 ],
 "metadata": {
  "kernelspec": {
   "display_name": "Python [conda env:master]",
   "language": "python",
   "name": "conda-env-master-py"
  },
  "language_info": {
   "codemirror_mode": {
    "name": "ipython",
    "version": 3
   },
   "file_extension": ".py",
   "mimetype": "text/x-python",
   "name": "python",
   "nbconvert_exporter": "python",
   "pygments_lexer": "ipython3",
   "version": "3.6.3"
  }
 },
 "nbformat": 4,
 "nbformat_minor": 2
}
