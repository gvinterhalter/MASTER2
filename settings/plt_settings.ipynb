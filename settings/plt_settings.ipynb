{
 "cells": [
  {
   "cell_type": "code",
   "execution_count": 25,
   "metadata": {},
   "outputs": [],
   "source": [
    "import matplotlib\n",
    "\n",
    "%matplotlib inline"
   ]
  },
  {
   "cell_type": "code",
   "execution_count": 3,
   "metadata": {},
   "outputs": [],
   "source": [
    "def figsize(scale=1):\n",
    "    import math\n",
    "    #fig_width_pt = 469.755  # Get this from LaTeX using \\the\\textwidth\n",
    "    fig_width_pt = 404.02908\n",
    "    inches_per_pt = 1.0 / 72.27  # Convert pt to inch\n",
    "    golden_mean = (math.sqrt(5.0) - 1.0) / 2.0  # Aesthetic ratio (you could change this)\n",
    "    fig_width = fig_width_pt * inches_per_pt * scale  # width in inches\n",
    "    fig_height = fig_width * golden_mean  # height in inches\n",
    "    return fig_width, fig_height"
   ]
  },
  {
   "cell_type": "code",
   "execution_count": 2,
   "metadata": {},
   "outputs": [],
   "source": [
    "# setup matplotlib options\n",
    "from matplotlib.backends.backend_pgf import FigureCanvasPgf\n",
    "matplotlib.backend_bases.register_backend('pdf', FigureCanvasPgf)"
   ]
  },
  {
   "cell_type": "code",
   "execution_count": 29,
   "metadata": {},
   "outputs": [],
   "source": [
    "matplotlib.rcParams.update({\n",
    "   \n",
    "    'figure.figsize': figsize(1),\n",
    "    'figure.dpi': 150,\n",
    "\n",
    "    \"font.family\": \"serif\",\n",
    "    \n",
    "    'font.size': 11, \n",
    "    \"legend.fontsize\": 11, \n",
    "    'axes.labelsize': 11, #Latex default is 10\n",
    "    \"xtick.labelsize\": 8,\n",
    "    \"ytick.labelsize\": 8,\n",
    "\n",
    "    \n",
    "    \"axes.grid\": True,\n",
    "    \"grid.color\": (0.8, 0.8, 0.8),  # grid color\n",
    "    \"grid.linestyle\": \"dashed\",  # dotted\n",
    "    \"grid.linewidth\": 0.5, # in points\n",
    "    \n",
    "    \"pgf.texsystem\": \"pdflatex\",  # change this if using xetex or lautex\n",
    "    \"text.usetex\": False,  # use LaTeX to write all text\n",
    "    \n",
    "    \"pgf.preamble\": [\n",
    "        r\"\\usepackage[utf8x]{inputenc}\",  # use utf8 fonts becasue your computer can handle it :)\n",
    "        r\"\\usepackage[T1]{fontenc}\",  # plots will be generated using this preamble\n",
    "        #r\"\\usepackage{mathpazo}\",  \n",
    "    ]\n",
    "} )\n",
    "\n",
    "\n",
    "# import matplotlib.pyplot as plt\n",
    "# plt.plot([1,2,3,4], [0,1,0,1])\n",
    "# plt.title(r\"\\textit{Plotič}\")\n",
    "# plt.text(2.5, 0.8, \"Naš čuka župa đ \")\n",
    "# plt.legend(['legend'])\n",
    "# plt.ylabel(\"y label\")\n"
   ]
  }
 ],
 "metadata": {
  "kernelspec": {
   "display_name": "Python [conda env:master]",
   "language": "python",
   "name": "conda-env-master-py"
  },
  "language_info": {
   "codemirror_mode": {
    "name": "ipython",
    "version": 3
   },
   "file_extension": ".py",
   "mimetype": "text/x-python",
   "name": "python",
   "nbconvert_exporter": "python",
   "pygments_lexer": "ipython3",
   "version": "3.6.3"
  }
 },
 "nbformat": 4,
 "nbformat_minor": 2
}
