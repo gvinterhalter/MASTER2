{
 "cells": [
  {
   "cell_type": "code",
   "execution_count": 1,
   "metadata": {
    "collapsed": true,
    "nbpresent": {
     "id": "907affe2-3dbd-4f71-bdbb-88042be07dad"
    }
   },
   "outputs": [],
   "source": [
    "import re\n",
    "import mmap\n",
    "from pprint import pprint\n",
    "import json\n"
   ]
  },
  {
   "cell_type": "code",
   "execution_count": 13,
   "metadata": {
    "nbpresent": {
     "id": "ab1677e2-045d-4ae3-a0e1-6dedd61a9f17"
    }
   },
   "outputs": [],
   "source": [
    "class Keyword():\n",
    "    def __init__(self, kw): self.__dict__.update(kw)\n",
    "    def get_name(self):     return self.ID if 'ID' in self.__dict__ else self.IC\n",
    "    def get_category(self): return self.CA if 'ID' in self.__dict__ else self.IC\n",
    "    def is_category(self):  return 'IC' in self.__dict__\n",
    "    def is_keyword(self):   return 'ID' in self.__dict__\n",
    "    \n",
    "def parse_keywlist(path):\n",
    "\n",
    "    id_re = re.compile(rb'(ID|IC) \\s+ ([^.]+) .\\s+  AC \\s+ (KW-\\d{4}) \\s+', re.X)\n",
    "    multiline_re = re.compile(rb'//\\s+|(\\w\\w)\\s+([^\\.]+)\\.\\s+', re.S)\n",
    "    kw_split_re = re.compile(rb'\\s*[;:]\\s*')\n",
    "\n",
    "    kw_name = {}\n",
    "    kw_ac = {}\n",
    "\n",
    "    with open(path, 'rb+') as file:\n",
    "        mem = mmap.mmap(file.fileno(), 0)\n",
    "        pos = re.search(b'^ID', mem, re.M).start()\n",
    "\n",
    "        while True:\n",
    "            m = id_re.match(mem, pos)\n",
    "            if not m:\n",
    "                break\n",
    "\n",
    "            id_type, id_value, AC = m.groups()\n",
    "            rec = Keyword( {id_type.decode():id_value, 'AC': AC, 'GO':[], 'HI':set(), 'WW':[]} )\n",
    "\n",
    "\n",
    "            for m in multiline_re.finditer(mem, m.end()):\n",
    "                k, v= m.groups()\n",
    "\n",
    "                if not k: \n",
    "                    pos = m.end() # got '//' update pos for the next kw\n",
    "                    break\n",
    "\n",
    "                k = k.decode()\n",
    "\n",
    "                if k=='DE':\n",
    "                    rec.DE = v.replace(b'\\nDE   ', b' ')\n",
    "                elif k=='SY':\n",
    "                    rec.SY = [w.strip() for w in v.replace(b'\\nSY   ', b'').split(b';') ]\n",
    "                elif(k=='GO'):\n",
    "                    rec.GO.append( v[:10] )\n",
    "                elif(k=='HI'):\n",
    "                    rec.HI.add( kw_split_re.split(v)[-2] ) # -1 is ID, -2 is predecessor\n",
    "                elif(k=='CA'):\n",
    "                    rec.CA = v\n",
    "                elif(k=='WW'):\n",
    "                    rec.WW.append(v)\n",
    "\n",
    "            kw_ac[rec.AC] = rec\n",
    "            kw_name[ rec.get_name() ] = rec\n",
    "            \n",
    "        #pprint(rec)\n",
    "        #break # debug\n",
    "    return kw_name, kw_ac"
   ]
  },
  {
   "cell_type": "code",
   "execution_count": 17,
   "metadata": {},
   "outputs": [],
   "source": [
    "#kw_name, kw_ac = parse_keywlist('data/IN/keywlist.txt')"
   ]
  },
  {
   "cell_type": "raw",
   "metadata": {},
   "source": [
    "from GO.obo_parser import  *\n",
    "with open(\"data/go.obo\", \"r\") as obo_file:\n",
    "    terms = parser.parse(obo_file.read())\n",
    "    "
   ]
  },
  {
   "cell_type": "raw",
   "metadata": {},
   "source": [
    "with open(\"data/go.json\", \"w\") as obo_file:\n",
    "    json.dump([x.__dict__ for x in terms],obo_file, indent=4, )"
   ]
  },
  {
   "cell_type": "raw",
   "metadata": {},
   "source": [
    "with open(\"data/go.json\", \"r\") as obo_file:\n",
    "    terms_list = json.load(obo_file)"
   ]
  }
 ],
 "metadata": {
  "kernelspec": {
   "display_name": "Python [default]",
   "language": "python",
   "name": "python3"
  },
  "language_info": {
   "codemirror_mode": {
    "name": "ipython",
    "version": 3
   },
   "file_extension": ".py",
   "mimetype": "text/x-python",
   "name": "python",
   "nbconvert_exporter": "python",
   "pygments_lexer": "ipython3",
   "version": "3.6.3"
  },
  "nbpresent": {
   "slides": {},
   "themes": {
    "default": "0b847bf1-f6d7-45a0-9bda-9e403f2f8077",
    "theme": {}
   }
  }
 },
 "nbformat": 4,
 "nbformat_minor": 2
}
