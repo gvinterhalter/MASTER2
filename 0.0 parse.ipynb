{
 "cells": [
  {
   "cell_type": "markdown",
   "metadata": {},
   "source": [
    "## keywords parsing"
   ]
  },
  {
   "cell_type": "code",
   "execution_count": 3,
   "metadata": {},
   "outputs": [],
   "source": [
    "import re\n",
    "import mmap\n",
    "from pprint import pprint\n",
    "import json\n",
    "from pprint import pprint\n",
    "\n",
    "import pandas as pd"
   ]
  },
  {
   "cell_type": "code",
   "execution_count": 142,
   "metadata": {},
   "outputs": [],
   "source": [
    "import mmap\n",
    "\n",
    "class Keyword():\n",
    "    def __init__(self, kw): self.__dict__.update(kw)\n",
    "    def get_name(self):     return self.ID if 'ID' in self.__dict__ else self.IC\n",
    "    def get_category(self): return None if self.is_category() else self.CA\n",
    "    def is_category(self):  return 'IC' in self.__dict__\n",
    "    def is_keyword(self):   return 'ID' in self.__dict__\n",
    "    \n",
    "    def __getattr__(self, attr): return self.__dict__.get(attr, None)\n",
    "    def __repr__(self): return repr(self.__dict__)\n",
    "    def __str__(self): return repr(self)\n",
    "\n",
    "def parse_keywlist(path):\n",
    "\n",
    "    kw = re.compile(rb'^(ID|IC) \\s+ ([^.]+) .\\s+  AC \\s+ (KW-\\d{4}) \\s+ (.+?)^//', re.X | re.M | re.S)\n",
    "    kw_split_re = re.compile('\\s*[;:]\\s*')\n",
    "\n",
    "    kw_names = {}\n",
    "    kw_acs = {}\n",
    "\n",
    "    with open(path, 'rb+') as file:\n",
    "        mem = mmap.mmap(file.fileno(), 0)\n",
    "\n",
    "        for m in kw.finditer(mem):\n",
    "            id_type, id_value, AC, lines = [x.decode() for x in m.groups()]\n",
    "            rec = Keyword( {id_type:id_value, 'AC': AC, 'GO':[], 'HI':set(), 'WW':[], 'SY': [], 'DE': ''} )\n",
    "            \n",
    "            for line in lines.split('\\n'):\n",
    "                k, v = line[:2], line[5:].strip('.')\n",
    "                \n",
    "                \n",
    "                if k=='DE':\n",
    "                    rec.DE += ' %s'%v\n",
    "                elif k=='SY':\n",
    "                    rec.SY = [w.strip() for w in v.split(';') ]\n",
    "                elif(k=='GO'):\n",
    "                    rec.GO.append( v[:10] )\n",
    "                elif(k=='HI'):\n",
    "                    rec.HI.add( kw_split_re.split(v)[-2] ) # -1 is ID, -2 is predecessor\n",
    "                elif(k=='CA'):\n",
    "                    rec.CA = v\n",
    "                elif(k=='WW'):\n",
    "                    rec.WW.append(v)\n",
    "\n",
    "            kw_acs[rec.AC] = rec\n",
    "            kw_names[ rec.get_name() ] = rec\n",
    "\n",
    "    return kw_names, kw_acs\n",
    "\n",
    "kw_names, kw_acs = parse_keywlist('data/IN/keywlist.txt')"
   ]
  },
  {
   "cell_type": "markdown",
   "metadata": {},
   "source": [
    "Ako get_category() vrati None tj Null to je znak da je kljucna rec kategorija"
   ]
  },
  {
   "cell_type": "markdown",
   "metadata": {},
   "source": [
    "### export keywrods"
   ]
  },
  {
   "cell_type": "code",
   "execution_count": 172,
   "metadata": {
    "slideshow": {
     "slide_type": "notes"
    }
   },
   "outputs": [],
   "source": [
    "kw_df = []\n",
    "kw_relations_df = []\n",
    "\n",
    "for kw in kw_names.values():\n",
    "    # Mogu da koristim dict umesto tuple ali izgubicu redosled a OrderDict je ruznije praviti od dict objekta za ovaj slucaj\n",
    "    kw_entry = (kw.AC, 'Keyword', kw.AC, kw.get_name(), kw.get_category(), kw.DE, kw.SY, kw.WW)\n",
    "    kw_df.append(kw_entry)\n",
    "\n",
    "    kw_relations_df.extend( (kw.AC, kw_names[p].AC, 'hi') for p in kw.HI)\n",
    "    kw_relations_df.extend( (kw.AC, go, 'map_to') for go in kw.GO)\n",
    "\n",
    "    \n",
    "kw_df = pd.DataFrame(kw_df, columns=[':ID', ':LABEL', 'AC', 'name', 'category', 'def', 'synonyms', 'ww']).set_index(':ID')\n",
    "kw_relations_df = pd.DataFrame(kw_relations_df, columns=[':START_ID', ':END_ID', ':TYPE']).set_index(':START_ID')"
   ]
  },
  {
   "cell_type": "code",
   "execution_count": 173,
   "metadata": {},
   "outputs": [],
   "source": [
    "kw_df = kw_df[ ~kw_df.category.isnull()]"
   ]
  },
  {
   "cell_type": "code",
   "execution_count": 174,
   "metadata": {},
   "outputs": [],
   "source": [
    "kw_df.to_csv('data/neo4j/kw.csv')\n",
    "kw_relations_df.to_csv('data/neo4j/kw_relations.csv')"
   ]
  },
  {
   "cell_type": "markdown",
   "metadata": {},
   "source": [
    "# Import then export GO"
   ]
  },
  {
   "cell_type": "code",
   "execution_count": 5,
   "metadata": {
    "collapsed": true
   },
   "outputs": [],
   "source": [
    "from GO.obo_parser import  *\n",
    "import json"
   ]
  },
  {
   "cell_type": "code",
   "execution_count": 6,
   "metadata": {},
   "outputs": [],
   "source": [
    "with open(\"data/IN/go.obo\", \"r\") as obo_file:\n",
    "    terms = parser.parse(obo_file.read())"
   ]
  },
  {
   "cell_type": "code",
   "execution_count": 7,
   "metadata": {},
   "outputs": [],
   "source": [
    "with open(\"data/IN/go.json\", \"w\") as obo_file:\n",
    "    json.dump([x.__dict__ for x in terms],obo_file, indent=4, )"
   ]
  },
  {
   "cell_type": "code",
   "execution_count": 8,
   "metadata": {
    "collapsed": true
   },
   "outputs": [],
   "source": [
    "with open(\"data/IN/go.json\", \"r\") as obo_file:\n",
    "    terms = [Term(t['id'], t) for t in json.load(obo_file)]"
   ]
  },
  {
   "cell_type": "code",
   "execution_count": 11,
   "metadata": {},
   "outputs": [],
   "source": [
    "term_df = []\n",
    "term_relations_df = []\n",
    "\n",
    "existing_go_set = set(t.id for t in terms)\n",
    "\n",
    "for t in terms:\n",
    "    # Mogu da koristim dict umesto tuple ali izgubicu redosled a OrderDict je ruznije praviti od dict objekta za ovaj slucaj\n",
    "    term_entry = (t.id, 'Term', t.namespace_short(), t.id, t.name, t.namespace, t.is_obsolete, t.comment, t.definition[0], t.xref)\n",
    "    term_df.append(term_entry)\n",
    "\n",
    "    if t.replaced_by in existing_go_set:\n",
    "        term_relations_df.append( (t.id, t.replaced_by, 'replaced_by') )\n",
    "    term_relations_df.extend( (t.id, go, rt) for rt in ['is_a', 'consider'] for go in t.__dict__.get(rt) or [] if go in existing_go_set)\n",
    "    term_relations_df.extend( (t.id, go, rt) for rt, go in t.relationship if go in existing_go_set)\n",
    "    \n",
    "term_df = pd.DataFrame(term_df, columns=[':ID', ':LABEL', ':LABEL', 'id', 'name', 'namespace', 'is_obsolete:boolean',\n",
    "                                         'comment', 'def', 'xref'] ).set_index(':ID')\n",
    "term_relations_df = pd.DataFrame(term_relations_df, columns=[':START_ID', ':END_ID', ':TYPE']).set_index(':START_ID')\n"
   ]
  },
  {
   "cell_type": "code",
   "execution_count": 17,
   "metadata": {},
   "outputs": [],
   "source": [
    "term_df.to_csv('data/neo4j/term.csv')\n",
    "term_relations_df.to_csv('data/neo4j/term_relations.csv')"
   ]
  }
 ],
 "metadata": {
  "kernelspec": {
   "display_name": "Python [conda env:master]",
   "language": "python",
   "name": "conda-env-master-py"
  },
  "language_info": {
   "codemirror_mode": {
    "name": "ipython",
    "version": 3
   },
   "file_extension": ".py",
   "mimetype": "text/x-python",
   "name": "python",
   "nbconvert_exporter": "python",
   "pygments_lexer": "ipython3",
   "version": "3.6.3"
  }
 },
 "nbformat": 4,
 "nbformat_minor": 2
}
