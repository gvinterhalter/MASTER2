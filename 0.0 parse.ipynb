{
 "cells": [
  {
   "cell_type": "markdown",
   "metadata": {},
   "source": [
    "## keywords parsing"
   ]
  },
  {
   "cell_type": "code",
   "execution_count": 25,
   "metadata": {},
   "outputs": [],
   "source": [
    "import re\n",
    "import mmap\n",
    "from pprint import pprint\n",
    "import json\n",
    "from pprint import pprint\n",
    "\n",
    "import pandas as pd"
   ]
  },
  {
   "cell_type": "code",
   "execution_count": 26,
   "metadata": {
    "collapsed": true
   },
   "outputs": [],
   "source": [
    "import mmap\n",
    "\n",
    "class Keyword():\n",
    "    def __init__(self, kw): self.__dict__.update(kw)\n",
    "    def get_name(self):     return self.ID if 'ID' in self.__dict__ else self.IC\n",
    "    def get_category(self): return self.CA if 'ID' in self.__dict__ else self.IC\n",
    "    def is_category(self):  return 'IC' in self.__dict__\n",
    "    def is_keyword(self):   return 'ID' in self.__dict__\n",
    "    \n",
    "    def __getattr__(self, attr): return self.__dict__.get(attr, None)\n",
    "    def __repr__(self): return repr(self.__dict__)\n",
    "    def __str__(self): return repr(self)\n",
    "    \n",
    "\n",
    "def parse_keywlist(path):\n",
    "\n",
    "    id_re = re.compile(rb'(ID|IC) \\s+ ([^.]+) .\\s+  AC \\s+ (KW-\\d{4}) \\s+', re.X)\n",
    "    multiline_re = re.compile(rb'//\\s+|(\\w\\w)\\s+([^\\.]+)\\.\\s+', re.S)\n",
    "    kw_split_re = re.compile('\\s*[;:]\\s*')\n",
    "\n",
    "    kw_names = {}\n",
    "    kw_acs = {}\n",
    "\n",
    "    with open(path, 'rb+') as file:\n",
    "        mem = mmap.mmap(file.fileno(), 0)\n",
    "        pos = re.search(b'^ID', mem, re.M).start()\n",
    "\n",
    "        while True:\n",
    "            m = id_re.match(mem, pos)\n",
    "            if not m:\n",
    "                break\n",
    "\n",
    "            id_type, id_value, AC = [x.decode() for x in m.groups()]\n",
    "            rec = Keyword( {id_type:id_value, 'AC': AC, 'GO':[], 'HI':set(), 'WW':[], 'SY': []} )\n",
    "\n",
    "\n",
    "            for m in multiline_re.finditer(mem, m.end()):\n",
    "                k, v= m.groups()\n",
    "\n",
    "                if not k: \n",
    "                    pos = m.end() # got '//' update pos for the next kw\n",
    "                    break\n",
    "\n",
    "                k = k.decode()\n",
    "                v = v.decode()\n",
    "\n",
    "                if k=='DE':\n",
    "                    rec.DE = v.replace('\\nDE   ', ' ')\n",
    "                elif k=='SY':\n",
    "                    rec.SY = [w.strip() for w in v.replace('\\nSY   ', '').split(';') ]\n",
    "                elif(k=='GO'):\n",
    "                    rec.GO.append( v[:10] )\n",
    "                elif(k=='HI'):\n",
    "                    rec.HI.add( kw_split_re.split(v)[-2] ) # -1 is ID, -2 is predecessor\n",
    "                elif(k=='CA'):\n",
    "                    rec.CA = v\n",
    "                elif(k=='WW'):\n",
    "                    rec.WW.append(v)\n",
    "\n",
    "            kw_acs[rec.AC] = rec\n",
    "            kw_names[ rec.get_name() ] = rec\n",
    "\n",
    "            \n",
    "        #pprint(rec)\n",
    "        #break # debug\n",
    "    return kw_names, kw_acs\n",
    "\n",
    "kw_names, kw_acs = parse_keywlist('data/IN/keywlist.txt')"
   ]
  },
  {
   "cell_type": "markdown",
   "metadata": {},
   "source": [
    "Ako get_category() vrati None tj Null to je znak da je kljucna rec kategorija"
   ]
  },
  {
   "cell_type": "markdown",
   "metadata": {},
   "source": [
    "### export keywrods"
   ]
  },
  {
   "cell_type": "code",
   "execution_count": 27,
   "metadata": {
    "slideshow": {
     "slide_type": "notes"
    }
   },
   "outputs": [],
   "source": [
    "kw_df = []\n",
    "kw_relations_df = []\n",
    "\n",
    "for kw in kw_names.values():\n",
    "    # Mogu da koristim dict umesto tuple ali izgubicu redosled a OrderDict je ruznije praviti od dict objekta za ovaj slucaj\n",
    "    kw_entry = (kw.AC, 'keyword', kw.AC, kw.get_name(), kw.get_category(), kw.DE, kw.SY, kw.WW)\n",
    "    kw_df.append(kw_entry)\n",
    "\n",
    "    kw_relations_df.extend( (kw.AC, kw_names[p].AC, 'hi') for p in kw.HI)\n",
    "    kw_relations_df.extend( (kw.AC, go, 'map_to') for go in kw.GO)\n",
    "\n",
    "    \n",
    "kw_df = pd.DataFrame(kw_df, columns=[':ID', ':LABEL', 'AC', 'name', 'category', 'def', 'synonyms', 'ww']).set_index(':ID')\n",
    "kw_relations_df = pd.DataFrame(kw_relations_df, columns=[':START_ID', ':END_ID', ':TYPE']).set_index(':START_ID')\n",
    "\n",
    "#kw_df\n",
    "#kw_relations_df"
   ]
  },
  {
   "cell_type": "markdown",
   "metadata": {},
   "source": [
    "# Import then export GO"
   ]
  },
  {
   "cell_type": "code",
   "execution_count": 28,
   "metadata": {
    "collapsed": true
   },
   "outputs": [],
   "source": [
    "from GO.obo_parser import  *\n",
    "import json\n"
   ]
  },
  {
   "cell_type": "code",
   "execution_count": null,
   "metadata": {},
   "outputs": [],
   "source": []
  },
  {
   "cell_type": "raw",
   "metadata": {},
   "source": [
    "with open(\"data/IN/go.obo\", \"r\") as obo_file:\n",
    "    terms = parser.parse(obo_file.read())"
   ]
  },
  {
   "cell_type": "raw",
   "metadata": {},
   "source": [
    "with open(\"data/IN/go.json\", \"w\") as obo_file:\n",
    "    json.dump([x.__dict__ for x in terms],obo_file, indent=4, )"
   ]
  },
  {
   "cell_type": "code",
   "execution_count": 29,
   "metadata": {
    "collapsed": true
   },
   "outputs": [],
   "source": [
    "with open(\"data/IN/go.json\", \"r\") as obo_file:\n",
    "    terms = [Term(t['id'], t) for t in json.load(obo_file)]"
   ]
  },
  {
   "cell_type": "code",
   "execution_count": 96,
   "metadata": {},
   "outputs": [
    {
     "data": {
      "text/plain": [
       "{'consider',\n",
       " 'ends_during',\n",
       " 'happens_during',\n",
       " 'has_part',\n",
       " 'is_a',\n",
       " 'negatively_regulates',\n",
       " 'occurs_in',\n",
       " 'part_of',\n",
       " 'positively_regulates',\n",
       " 'regulates',\n",
       " 'replaced_by'}"
      ]
     },
     "execution_count": 96,
     "metadata": {},
     "output_type": "execute_result"
    }
   ],
   "source": [
    "set(term_relations_df[':TYPE'])"
   ]
  },
  {
   "cell_type": "code",
   "execution_count": 92,
   "metadata": {},
   "outputs": [],
   "source": [
    "for t in terms:\n",
    "    if t.relationship:\n",
    "        break"
   ]
  },
  {
   "cell_type": "code",
   "execution_count": 93,
   "metadata": {},
   "outputs": [
    {
     "data": {
      "text/plain": [
       "[['regulates', 'GO:0006310']]"
      ]
     },
     "execution_count": 93,
     "metadata": {},
     "output_type": "execute_result"
    }
   ],
   "source": [
    "t.relationship"
   ]
  },
  {
   "cell_type": "code",
   "execution_count": 97,
   "metadata": {},
   "outputs": [],
   "source": [
    "term_df = []\n",
    "term_relations_df = []\n",
    "\n",
    "relation_types = ['is_a', 'replaced_by', 'consider']\n",
    "\n",
    "for t in terms:\n",
    "    # Mogu da koristim dict umesto tuple ali izgubicu redosled a OrderDict je ruznije praviti od dict objekta za ovaj slucaj\n",
    "    term_entry = (t.id, 'Term', t.namespace_short(), t.id, t.name, t.namespace, t.is_obsolete, t.comment, t.definition[0], t.xr)\n",
    "    term_df.append(term_entry)\n",
    "\n",
    "    #term_relations_df.extend( (t.id, go, rt) for rt in relation_types for go in t.__dict__.get(rt) or [] )\n",
    "    #term_relations_df.extend( (t.id, go, rt) for rt, go in t.relationship)\n",
    "\n",
    "term_df = pd.DataFrame(term_df, columns=[':ID', ':LABEL', ':LABEL', 'id', 'name', 'namespace', 'is_obsolete:boolean',\n",
    "                                         'comment', 'def'] ).set_index(':ID')\n",
    "term_relations_df = pd.DataFrame(term_relations_df, columns=[':START_ID', ':END_ID', ':TYPE']).set_index(':START_ID')\n",
    "                                         \n"
   ]
  },
  {
   "cell_type": "code",
   "execution_count": null,
   "metadata": {},
   "outputs": [],
   "source": []
  }
 ],
 "metadata": {
  "kernelspec": {
   "display_name": "Python [conda env:master]",
   "language": "python",
   "name": "conda-env-master-py"
  },
  "language_info": {
   "codemirror_mode": {
    "name": "ipython",
    "version": 3
   },
   "file_extension": ".py",
   "mimetype": "text/x-python",
   "name": "python",
   "nbconvert_exporter": "python",
   "pygments_lexer": "ipython3",
   "version": "3.6.3"
  }
 },
 "nbformat": 4,
 "nbformat_minor": 2
}
