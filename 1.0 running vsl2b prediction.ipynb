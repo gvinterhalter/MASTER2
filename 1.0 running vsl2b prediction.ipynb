{
 "cells": [
  {
   "cell_type": "code",
   "execution_count": 1,
   "metadata": {},
   "outputs": [],
   "source": [
    "from Bio import SeqIO\n",
    "from DisorderPredictors import VSL2b"
   ]
  },
  {
   "cell_type": "code",
   "execution_count": 2,
   "metadata": {
    "collapsed": true
   },
   "outputs": [],
   "source": [
    "vsl2b = VSL2b()"
   ]
  },
  {
   "cell_type": "code",
   "execution_count": 3,
   "metadata": {},
   "outputs": [],
   "source": [
    "from concurrent.futures import ThreadPoolExecutor\n",
    "from tqdm import tqdm\n",
    "import pickle\n",
    "\n",
    "def predict(seq_list, predictor, out_path, max_workers=2):\n",
    "    n = len(seq_list)\n",
    "    result = []\n",
    "    with ThreadPoolExecutor(max_workers) as executor:\n",
    "        for ac, res, reg in tqdm(executor.map(predictor.run, seq_list), total=n):\n",
    "            if res is None:\n",
    "                print(\"error: \", ac)\n",
    "                continue  # preskacemo\n",
    "            \n",
    "            res = [p for _,p in res]\n",
    "            reg = [(s, e, e-s) for s,e in reg] # precalculate length\n",
    "            result.append( (ac, res, reg) )\n",
    "      \n",
    "    with open(out_path, \"wb\") as f:\n",
    "        pickle.dump(result, f)\n",
    "\n",
    "\n",
    "#result = predict(valid_proteins[:10], vsl2b, 'vsl2b_valid.pickle')"
   ]
  },
  {
   "cell_type": "markdown",
   "metadata": {},
   "source": [
    "###  Run predictions"
   ]
  },
  {
   "cell_type": "code",
   "execution_count": 61,
   "metadata": {
    "collapsed": true
   },
   "outputs": [],
   "source": [
    "valid_proteins = [ (r.id, str(r.seq)) for r in\n",
    "                   SeqIO.parse(\"data/CAFA3_training_data/valid_proteins.fasta\", \"fasta\")]\n",
    "\n",
    "#predict(valid_proteins, vsl2b, 'vsl2b_valid.pickle')\n",
    "del valid_proteins"
   ]
  },
  {
   "cell_type": "code",
   "execution_count": 59,
   "metadata": {},
   "outputs": [],
   "source": [
    "random_proteins = [ (r.id, str(r.seq)) for r in\n",
    "                   SeqIO.parse(\"data/CAFA3_training_data/random_model_proteins.fasta\", \"fasta\")]\n",
    "\n",
    "#predict(random_proteins, vsl2b, 'vsl2b_random.pickle')\n",
    "del random_proteins"
   ]
  },
  {
   "cell_type": "code",
   "execution_count": 4,
   "metadata": {},
   "outputs": [],
   "source": [
    "uniform_proteins = [ (r.id, str(r.seq)) for r in\n",
    "                   SeqIO.parse(\"data/CAFA3_training_data/uniform_model_proteins.fasta\", \"fasta\")]\n",
    "\n",
    "#predict(uniform_proteins, vsl2b, 'uniform_model.pickle')\n",
    "del uniform_proteins"
   ]
  }
 ],
 "metadata": {
  "kernelspec": {
   "display_name": "Python [conda env:master]",
   "language": "python",
   "name": "conda-env-master-py"
  },
  "language_info": {
   "codemirror_mode": {
    "name": "ipython",
    "version": 3
   },
   "file_extension": ".py",
   "mimetype": "text/x-python",
   "name": "python",
   "nbconvert_exporter": "python",
   "pygments_lexer": "ipython3",
   "version": "3.6.3"
  }
 },
 "nbformat": 4,
 "nbformat_minor": 2
}
