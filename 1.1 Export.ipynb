{
 "cells": [
  {
   "cell_type": "markdown",
   "metadata": {},
   "source": [
    "# Keywords, Parse & Export"
   ]
  },
  {
   "cell_type": "code",
   "execution_count": 286,
   "metadata": {},
   "outputs": [],
   "source": [
    "import pandas as pd\n",
    "%run settings/db_connect.ipynb"
   ]
  },
  {
   "cell_type": "code",
   "execution_count": 376,
   "metadata": {},
   "outputs": [],
   "source": [
    "%run parsers/keywords_parser.ipynb\n",
    "kw_list = parse_keywlist('data/IN/keywlist.txt')\n",
    "kw_name_dict = {rec.get_name(): rec for rec in kw_list}"
   ]
  },
  {
   "cell_type": "code",
   "execution_count": 40,
   "metadata": {},
   "outputs": [],
   "source": [
    "kw_df = []\n",
    "kw_relations_df = []\n",
    "\n",
    "for kw in kw_list:\n",
    "    # Mogu da koristim dict umesto tuple ali izgubicu redosled a OrderDict je ruznije praviti od dict objekta za ovaj slucaj\n",
    "    kw_entry = (kw.AC, 'Keyword', kw.AC, kw.get_name(), kw.get_category(), kw.get_category_name(), kw.DE, kw.SY, kw.WW)\n",
    "    kw_df.append(kw_entry)\n",
    "\n",
    "    kw_relations_df.extend( (kw.AC, p, 'hi') for p in kw.HI)\n",
    "    kw_relations_df.extend( (kw.AC, go, 'map_to') for go in kw.GO)\n",
    "\n",
    "    \n",
    "kw_df = pd.DataFrame(kw_df, columns=[':ID', ':LABEL', 'ac', 'name', 'category', 'category_name', 'def', 'synonyms', 'ww'])\n",
    "kw_relations_df = pd.DataFrame(kw_relations_df, columns=[':START_ID', ':END_ID', ':TYPE'])"
   ]
  },
  {
   "cell_type": "markdown",
   "metadata": {},
   "source": [
    "### Export csv for Neo4j"
   ]
  },
  {
   "cell_type": "code",
   "execution_count": 41,
   "metadata": {},
   "outputs": [],
   "source": [
    "kw_df.to_csv('data/neo4j/kw.csv', index=False)\n",
    "kw_relations_df.to_csv('data/neo4j/kw_relations.csv')"
   ]
  },
  {
   "cell_type": "markdown",
   "metadata": {},
   "source": [
    "### Export to SQL database"
   ]
  },
  {
   "cell_type": "code",
   "execution_count": 91,
   "metadata": {},
   "outputs": [
    {
     "data": {
      "text/plain": [
       "<sqlalchemy.engine.result.ResultProxy at 0x7fcb08a9cf98>"
      ]
     },
     "execution_count": 91,
     "metadata": {},
     "output_type": "execute_result"
    }
   ],
   "source": [
    "db_engine.execute(r\"\"\"\n",
    "\n",
    "---drop table keywords, kw_parnet, kw2go\n",
    "\n",
    "create table if not exists keywords (\n",
    "    ac        text primary key not null,\n",
    "    name      text not null,\n",
    "    category  text,\n",
    "    category_name text,\n",
    "    def       text,\n",
    "    synonyms  text[],\n",
    "    ww        text[]\n",
    ");\n",
    "\n",
    "create table if not exists kw_parent (\n",
    "    ac     text not null,\n",
    "    parent text not null,\n",
    "    primary key (ac, parent)\n",
    ");\n",
    "\n",
    "create table if not exists kw2go (\n",
    "    kw text not null,\n",
    "    go text not null,\n",
    "    primary key (kw, go)\n",
    ");\n",
    "\n",
    "\"\"\" )"
   ]
  },
  {
   "cell_type": "code",
   "execution_count": 85,
   "metadata": {},
   "outputs": [],
   "source": [
    "# save keywords relation\n",
    "kw_df[kw_df.columns[2:]].to_sql('keywords', db_engine,  index=False, if_exists=\"append\")"
   ]
  },
  {
   "cell_type": "code",
   "execution_count": 102,
   "metadata": {},
   "outputs": [],
   "source": [
    "# save kw_parent relation\n",
    "kw_parent_df = kw_relations_df[kw_relations_df[\":TYPE\"] == 'hi'] [[\":START_ID\", \":END_ID\"]]\n",
    "kw_parent_df.columns = ['ac', 'parent']\n",
    "kw_parent_df.to_sql('kw_parent', db_engine,  index=False, if_exists=\"append\")"
   ]
  },
  {
   "cell_type": "code",
   "execution_count": 103,
   "metadata": {},
   "outputs": [],
   "source": [
    "# save kw2go relation\n",
    "kw_parent_df = kw_relations_df[kw_relations_df[\":TYPE\"] == 'map_to'] [[\":START_ID\", \":END_ID\"]]\n",
    "kw_parent_df.columns = ['kw', 'go']\n",
    "kw_parent_df.to_sql('kw2go', db_engine,  index=False, if_exists=\"append\")"
   ]
  },
  {
   "cell_type": "markdown",
   "metadata": {},
   "source": [
    "# GO, Parse & Export"
   ]
  },
  {
   "cell_type": "code",
   "execution_count": 107,
   "metadata": {},
   "outputs": [],
   "source": [
    "import json\n",
    "# treba mi parser jer sadrzi Term definiciju\n",
    "%run parsers/obo_parser.py "
   ]
  },
  {
   "cell_type": "raw",
   "metadata": {},
   "source": [
    "with open(\"data/IN/go.obo\", \"r\") as obo_file:\n",
    "    term_list = parser.parse(obo_file.read())"
   ]
  },
  {
   "cell_type": "raw",
   "metadata": {},
   "source": [
    "with open(\"data/IN/go.json\", \"w\") as obo_file:\n",
    "    json.dump([x.__dict__ for x in term_list],obo_file, indent=4, )"
   ]
  },
  {
   "cell_type": "code",
   "execution_count": null,
   "metadata": {},
   "outputs": [],
   "source": [
    "with open(\"data/IN/go.json\", \"r\") as obo_file:\n",
    "    term_list = [Term(t['id'], t) for t in json.load(obo_file)]"
   ]
  },
  {
   "cell_type": "code",
   "execution_count": 230,
   "metadata": {},
   "outputs": [],
   "source": [
    "term_df = []\n",
    "term_relations_df = []\n",
    "\n",
    "existing_go_set = set(t.id for t in term_list)\n",
    "\n",
    "for t in term_list:\n",
    "    # Mogu da koristim dict umesto tuple ali izgubicu redosled a OrderDict je ruznije praviti od dict objekta za ovaj slucaj\n",
    "    term_entry = (t.id, 'Term', t.namespace_short(), t.id, t.name, t.namespace_short(), t.is_obsolete, t.comment, t.definition[0], t.xref)\n",
    "    term_df.append(term_entry)\n",
    "\n",
    "    if t.replaced_by in existing_go_set:\n",
    "        term_relations_df.append( (t.id, t.replaced_by, 'replaced_by') )\n",
    "    term_relations_df.extend( (t.id, go, rt) for rt in ['is_a', 'consider'] for go in t.__dict__.get(rt) or [] if go in existing_go_set)\n",
    "    term_relations_df.extend( (t.id, go, rt) for rt, go in t.relationship if go in existing_go_set)\n",
    "    \n",
    "term_df = pd.DataFrame(term_df, columns=[':ID', ':LABEL', ':LABEL', 'id', 'name', 'namespace', 'is_obsolete:boolean',\n",
    "                                         'comment', 'def', 'xref'] )\n",
    "term_relations_df = pd.DataFrame(term_relations_df, columns=[':START_ID', ':END_ID', ':TYPE'])"
   ]
  },
  {
   "cell_type": "code",
   "execution_count": 409,
   "metadata": {},
   "outputs": [],
   "source": [
    "term_set = set(term.id for term in term_list)"
   ]
  },
  {
   "cell_type": "markdown",
   "metadata": {},
   "source": [
    "### Export csv for Neo4j"
   ]
  },
  {
   "cell_type": "code",
   "execution_count": 119,
   "metadata": {},
   "outputs": [],
   "source": [
    "term_df.to_csv('data/neo4j/term.csv', index=None)\n",
    "term_relations_df.to_csv('data/neo4j/term_relations.csv', index=None)"
   ]
  },
  {
   "cell_type": "markdown",
   "metadata": {},
   "source": [
    "### Export to SQL"
   ]
  },
  {
   "cell_type": "code",
   "execution_count": 236,
   "metadata": {},
   "outputs": [
    {
     "data": {
      "text/plain": [
       "<sqlalchemy.engine.result.ResultProxy at 0x7fcb04a32a20>"
      ]
     },
     "execution_count": 236,
     "metadata": {},
     "output_type": "execute_result"
    }
   ],
   "source": [
    "db_engine.execute(r\"\"\"\n",
    "\n",
    "--drop table go, go_relations;\n",
    "\n",
    "create table if not exists go\n",
    "(\n",
    "  id text primary key not null,\n",
    "  name text not null,\n",
    "  namespace text not null,\n",
    "  is_obsolete boolean not null,\n",
    "  comment text,\n",
    "  def text not null,\n",
    "  xref text[]\n",
    ");\n",
    "\n",
    "create table if not exists go_relations (\n",
    "  start_id text not null,\n",
    "  end_id text not null,\n",
    "  type text not null,\n",
    "  primary key (start_id, end_id, type),\n",
    "  foreign key (start_id) references go(id) on delete cascade,\n",
    "  foreign key (end_id) references go(id) on delete cascade  \n",
    ");\n",
    "\n",
    "\"\"\")"
   ]
  },
  {
   "cell_type": "code",
   "execution_count": 141,
   "metadata": {},
   "outputs": [],
   "source": [
    "tmp_df = term_df[term_df.columns[3:]].set_index('id')\n",
    "tmp_df.columns = [c.split(':')[0] for c in tmp_df.columns]\n",
    "tmp_df.to_sql('go', db_engine, if_exists='append')"
   ]
  },
  {
   "cell_type": "markdown",
   "metadata": {},
   "source": [
    "Export relations"
   ]
  },
  {
   "cell_type": "code",
   "execution_count": 231,
   "metadata": {},
   "outputs": [],
   "source": [
    "tmp_df = term_relations_df\n",
    "tmp_df.columns = [c.lower()[1:] for c in tmp_df.columns]\n",
    "tmp_df.to_sql(\"go_relations\", db_engine, index=None, if_exists='append', )"
   ]
  },
  {
   "cell_type": "markdown",
   "metadata": {},
   "source": [
    "# Export proteins"
   ]
  },
  {
   "cell_type": "code",
   "execution_count": 303,
   "metadata": {},
   "outputs": [],
   "source": [
    "def clasify_disorder_40(raw, regions):\n",
    "    return any(l >=40 for _,_,l in regions)\n",
    "\n",
    "def to_predictions_df(raw_prediction):\n",
    "    return pd.DataFrame( [ ( ac, len(raw),  clasify_disorder_40(raw, regions) )\n",
    "                            for ac, raw, regions in raw_prediction ]\n",
    "                         , columns=[\"ac\", \"len\", \"dis\"]).set_index('ac')"
   ]
  },
  {
   "cell_type": "code",
   "execution_count": 338,
   "metadata": {},
   "outputs": [],
   "source": [
    "import pickle\n",
    "\n",
    "with open('data/predictions/vsl2b_valid.pickle', 'rb') as f:\n",
    "    vsl2b_valid = to_predictions_df(pickle.load(f))\n",
    "with open('data/predictions/vsl2b_random.pickle', 'rb') as fr:\n",
    "    vsl2b_random = to_predictions_df(pickle.load(fr))\n",
    "with open('data/predictions/vsl2b_uniform.pickle', 'rb') as fu:\n",
    "    vsl2b_uniform = to_predictions_df(pickle.load(fu))"
   ]
  },
  {
   "cell_type": "code",
   "execution_count": 420,
   "metadata": {},
   "outputs": [
    {
     "data": {
      "text/html": [
       "<div>\n",
       "<style>\n",
       "    .dataframe thead tr:only-child th {\n",
       "        text-align: right;\n",
       "    }\n",
       "\n",
       "    .dataframe thead th {\n",
       "        text-align: left;\n",
       "    }\n",
       "\n",
       "    .dataframe tbody tr th {\n",
       "        vertical-align: top;\n",
       "    }\n",
       "</style>\n",
       "<table border=\"1\" class=\"dataframe\">\n",
       "  <thead>\n",
       "    <tr style=\"text-align: right;\">\n",
       "      <th></th>\n",
       "      <th>len</th>\n",
       "      <th>dis</th>\n",
       "      <th>dis_random</th>\n",
       "      <th>dis_uniform</th>\n",
       "    </tr>\n",
       "    <tr>\n",
       "      <th>ac</th>\n",
       "      <th></th>\n",
       "      <th></th>\n",
       "      <th></th>\n",
       "      <th></th>\n",
       "    </tr>\n",
       "  </thead>\n",
       "  <tbody>\n",
       "    <tr>\n",
       "      <th>A0A060X6Z0</th>\n",
       "      <td>489</td>\n",
       "      <td>True</td>\n",
       "      <td>True</td>\n",
       "      <td>False</td>\n",
       "    </tr>\n",
       "    <tr>\n",
       "      <th>A0A068FIK2</th>\n",
       "      <td>1033</td>\n",
       "      <td>True</td>\n",
       "      <td>True</td>\n",
       "      <td>False</td>\n",
       "    </tr>\n",
       "    <tr>\n",
       "      <th>A0A075F932</th>\n",
       "      <td>421</td>\n",
       "      <td>True</td>\n",
       "      <td>False</td>\n",
       "      <td>False</td>\n",
       "    </tr>\n",
       "    <tr>\n",
       "      <th>A0A078CGE6</th>\n",
       "      <td>1299</td>\n",
       "      <td>True</td>\n",
       "      <td>True</td>\n",
       "      <td>False</td>\n",
       "    </tr>\n",
       "    <tr>\n",
       "      <th>A0A086F3E3</th>\n",
       "      <td>192</td>\n",
       "      <td>False</td>\n",
       "      <td>True</td>\n",
       "      <td>False</td>\n",
       "    </tr>\n",
       "  </tbody>\n",
       "</table>\n",
       "</div>"
      ],
      "text/plain": [
       "             len    dis  dis_random  dis_uniform\n",
       "ac                                              \n",
       "A0A060X6Z0   489   True        True        False\n",
       "A0A068FIK2  1033   True        True        False\n",
       "A0A075F932   421   True       False        False\n",
       "A0A078CGE6  1299   True        True        False\n",
       "A0A086F3E3   192  False        True        False"
      ]
     },
     "execution_count": 420,
     "metadata": {},
     "output_type": "execute_result"
    }
   ],
   "source": [
    "dis40 = vsl2b_valid.join(vsl2b_random.dis, rsuffix='_random')\\\n",
    "                   .join(vsl2b_uniform.dis, rsuffix='_uniform')\n",
    "#dis40 = dis40.query('len >= 40') # jer dis40 mora da podrazumeva >= 40\n",
    "dis40.head()"
   ]
  },
  {
   "cell_type": "markdown",
   "metadata": {},
   "source": [
    "### Save to dis40"
   ]
  },
  {
   "cell_type": "code",
   "execution_count": 419,
   "metadata": {},
   "outputs": [],
   "source": [
    "dis40.to_sql(\"dis40\", db_engine)\n",
    "db_engine.execute(\"alter table dis40 add primary key (ac)\")"
   ]
  },
  {
   "cell_type": "markdown",
   "metadata": {},
   "source": [
    "## Export Prot -> KW & GO "
   ]
  },
  {
   "cell_type": "code",
   "execution_count": 258,
   "metadata": {},
   "outputs": [],
   "source": [
    "from Bio import SeqIO"
   ]
  },
  {
   "cell_type": "code",
   "execution_count": 259,
   "metadata": {},
   "outputs": [],
   "source": [
    "with open(\"./data/IN/valid_proteins.fasta\") as handle:\n",
    "    valid_cafa_seq = list( SeqIO.parse(handle, 'fasta') )\n",
    "    valid_cafa_ac = {seq.id for seq in valid_cafa_seq}"
   ]
  },
  {
   "cell_type": "code",
   "execution_count": 260,
   "metadata": {},
   "outputs": [],
   "source": [
    "with open(\"./data/IN/uniprot/uniprot_sprot.dat\") as handle:\n",
    "    swiss_seq = [ rec for rec in SeqIO.parse(handle, \"swiss\") if\n",
    "                    any(ac in valid_cafa_ac for ac in rec.annotations[\"accessions\"]) ]\n"
   ]
  },
  {
   "cell_type": "code",
   "execution_count": 261,
   "metadata": {},
   "outputs": [
    {
     "data": {
      "text/plain": [
       "(66584, 66599)"
      ]
     },
     "execution_count": 261,
     "metadata": {},
     "output_type": "execute_result"
    }
   ],
   "source": [
    "len(swiss_seq), len(valid_cafa_ac)"
   ]
  },
  {
   "cell_type": "code",
   "execution_count": 390,
   "metadata": {},
   "outputs": [
    {
     "data": {
      "text/plain": [
       "<sqlalchemy.engine.result.ResultProxy at 0x7fca08dd4a20>"
      ]
     },
     "execution_count": 390,
     "metadata": {},
     "output_type": "execute_result"
    }
   ],
   "source": [
    "db_engine.execute(r\"\"\"\n",
    "create table if not exists prot2kw (\n",
    "  prot text not null,\n",
    "  kw text not null,\n",
    "\n",
    "  primary key (prot, kw),\n",
    "  foreign key (prot) references dis40(ac) on delete cascade,\n",
    "  foreign key (kw) references keywords(ac) on delete cascade  \n",
    ");\n",
    "\"\"\")"
   ]
  },
  {
   "cell_type": "code",
   "execution_count": 388,
   "metadata": {},
   "outputs": [],
   "source": [
    "prot2kw = [ (rec.id, kw_name_dict[kw].AC) for \n",
    "             rec in swiss_seq for kw  in rec.annotations.get('keywords', []) if rec.id in valid_cafa_ac]               \n",
    "prot2kw = pd.DataFrame(prot2kw, columns=['prot', 'kw']).set_index(['prot', 'kw'])"
   ]
  },
  {
   "cell_type": "code",
   "execution_count": 391,
   "metadata": {},
   "outputs": [],
   "source": [
    "prot2kw.to_sql(\"prot2kw\", db_engine, if_exists='append')"
   ]
  },
  {
   "cell_type": "markdown",
   "metadata": {},
   "source": [
    "***"
   ]
  },
  {
   "cell_type": "code",
   "execution_count": 393,
   "metadata": {},
   "outputs": [
    {
     "data": {
      "text/plain": [
       "<sqlalchemy.engine.result.ResultProxy at 0x7fca0860c240>"
      ]
     },
     "execution_count": 393,
     "metadata": {},
     "output_type": "execute_result"
    }
   ],
   "source": [
    "db_engine.execute(r\"\"\"\n",
    "create table if not exists prot2go (\n",
    "  prot text not null,\n",
    "  go text not null,\n",
    "\n",
    "  primary key (prot, go),\n",
    "  foreign key (prot) references dis40(ac) on delete cascade,\n",
    "  foreign key (go) references go(id) on delete cascade  \n",
    ");\n",
    "\"\"\")"
   ]
  },
  {
   "cell_type": "code",
   "execution_count": 412,
   "metadata": {},
   "outputs": [
    {
     "data": {
      "text/html": [
       "<div>\n",
       "<style>\n",
       "    .dataframe thead tr:only-child th {\n",
       "        text-align: right;\n",
       "    }\n",
       "\n",
       "    .dataframe thead th {\n",
       "        text-align: left;\n",
       "    }\n",
       "\n",
       "    .dataframe tbody tr th {\n",
       "        vertical-align: top;\n",
       "    }\n",
       "</style>\n",
       "<table border=\"1\" class=\"dataframe\">\n",
       "  <thead>\n",
       "    <tr style=\"text-align: right;\">\n",
       "      <th></th>\n",
       "      <th>prot</th>\n",
       "      <th>go</th>\n",
       "    </tr>\n",
       "  </thead>\n",
       "  <tbody>\n",
       "    <tr>\n",
       "      <th>0</th>\n",
       "      <td>P0DJZ0</td>\n",
       "      <td>GO:0030430</td>\n",
       "    </tr>\n",
       "    <tr>\n",
       "      <th>1</th>\n",
       "      <td>P0DJZ0</td>\n",
       "      <td>GO:0039526</td>\n",
       "    </tr>\n",
       "    <tr>\n",
       "      <th>2</th>\n",
       "      <td>P32234</td>\n",
       "      <td>GO:0005525</td>\n",
       "    </tr>\n",
       "    <tr>\n",
       "      <th>3</th>\n",
       "      <td>P83010</td>\n",
       "      <td>GO:0005783</td>\n",
       "    </tr>\n",
       "    <tr>\n",
       "      <th>4</th>\n",
       "      <td>P83010</td>\n",
       "      <td>GO:0043231</td>\n",
       "    </tr>\n",
       "  </tbody>\n",
       "</table>\n",
       "</div>"
      ],
      "text/plain": [
       "     prot          go\n",
       "0  P0DJZ0  GO:0030430\n",
       "1  P0DJZ0  GO:0039526\n",
       "2  P32234  GO:0005525\n",
       "3  P83010  GO:0005783\n",
       "4  P83010  GO:0043231"
      ]
     },
     "execution_count": 412,
     "metadata": {},
     "output_type": "execute_result"
    }
   ],
   "source": [
    "prot2go = [ (rec.id, go[3:]) for\n",
    "           rec in swiss_seq for go  in rec.dbxrefs \n",
    "           if go.startswith(\"GO:\") and rec.id in valid_cafa_ac and go[3:] in term_set ]               \n",
    "prot2go = pd.DataFrame(prot2go, columns=['prot', 'go'])\n",
    "prot2go.head()"
   ]
  },
  {
   "cell_type": "code",
   "execution_count": 414,
   "metadata": {},
   "outputs": [
    {
     "data": {
      "text/plain": [
       "<sqlalchemy.engine.result.ResultProxy at 0x7fc9eea64160>"
      ]
     },
     "execution_count": 414,
     "metadata": {},
     "output_type": "execute_result"
    }
   ],
   "source": [
    "prot2go.to_csv(\"data/IN/prot2go.csv\", index=False)\n",
    "\n",
    "db_engine.execute(r\"\"\"\n",
    "COPY prot2go FROM '/home/goksi/Desktop/Projects/master/data/IN/prot2go.csv' DELIMITER ',' CSV HEADER;\n",
    "\"\"\")\n",
    "\n",
    "%rm data/IN/prot2go.csv\n"
   ]
  }
 ],
 "metadata": {
  "kernelspec": {
   "display_name": "Python [conda env:master]",
   "language": "python",
   "name": "conda-env-master-py"
  },
  "language_info": {
   "codemirror_mode": {
    "name": "ipython",
    "version": 3
   },
   "file_extension": ".py",
   "mimetype": "text/x-python",
   "name": "python",
   "nbconvert_exporter": "python",
   "pygments_lexer": "ipython3",
   "version": "3.6.3"
  }
 },
 "nbformat": 4,
 "nbformat_minor": 2
}
