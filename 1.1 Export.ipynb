{
 "cells": [
  {
   "cell_type": "markdown",
   "metadata": {},
   "source": [
    "# GO, Parse & Export"
   ]
  },
  {
   "cell_type": "code",
   "execution_count": 1,
   "metadata": {},
   "outputs": [],
   "source": [
    "import pandas as pd\n",
    "import json\n",
    "%run settings/db_connect.ipynb"
   ]
  },
  {
   "cell_type": "code",
   "execution_count": 2,
   "metadata": {},
   "outputs": [],
   "source": [
    "# treba mi parser jer sadrzi Term definiciju\n",
    "%run parsers/obo_parser.py "
   ]
  },
  {
   "cell_type": "raw",
   "metadata": {},
   "source": [
    "with open(\"data/IN/go.obo\", \"r\") as obo_file:\n",
    "    term_list = parser.parse(obo_file.read())"
   ]
  },
  {
   "cell_type": "raw",
   "metadata": {},
   "source": [
    "with open(\"data/IN/go.json\", \"w\") as obo_file:\n",
    "    json.dump([x.__dict__ for x in term_list],obo_file, indent=4, )"
   ]
  },
  {
   "cell_type": "code",
   "execution_count": 3,
   "metadata": {},
   "outputs": [],
   "source": [
    "with open(\"data/IN/go.json\", \"r\") as obo_file:\n",
    "    term_list = [Term(t['id'], t) for t in json.load(obo_file)]"
   ]
  },
  {
   "cell_type": "raw",
   "metadata": {},
   "source": [
    "term_df = pd.DataFrame(term_df, columns=[':ID', ':LABEL', ':LABEL', 'id', 'name', 'namespace', 'is_obsolete:boolean',\n",
    "                                         'comment', 'def', 'xref'] )\n",
    "term_relations_df = pd.DataFrame(term_relations_df, columns=[':START_ID', ':END_ID', ':TYPE'])"
   ]
  },
  {
   "cell_type": "code",
   "execution_count": 4,
   "metadata": {},
   "outputs": [],
   "source": [
    "goterms_df = []\n",
    "go_relations_df = []\n",
    "\n",
    "existing_go_set = set(t.id for t in term_list)\n",
    "\n",
    "for t in term_list:\n",
    "    # Mogu da koristim dict umesto tuple ali izgubicu redosled a OrderDict je ruznije praviti od dict objekta za ovaj slucaj\n",
    "    term_entry = {\"id\": t.id, \n",
    "                  \"is_obsolete\": t.is_obsolete, \n",
    "                  \"name\": t.name,\n",
    "                  \"namespace\":  t.namespace_short(),\n",
    "                  \"def\": t.definition[0],\n",
    "                  \"comment\":  t.comment,\n",
    "                  \"xrefs\": t.xref,\n",
    "                 }\n",
    "    goterms_df.append(term_entry)\n",
    "    \n",
    "    if t.replaced_by:\n",
    "        go_relations_df.append( (t.id, t.replaced_by, 'replaced_by') )\n",
    "    go_relations_df.extend( (t.id, go, rel_type) for rel_type in ['is_a', 'consider'] for go in t.__dict__.get(rel_type) or [])\n",
    "    go_relations_df.extend( (t.id, go, rel_type) for rel_type, go in t.relationship if go in existing_go_set)\n",
    "\n",
    "    \n",
    "goterms_df = pd.DataFrame(goterms_df).set_index('id') \\\n",
    "    [['is_obsolete', 'name', 'namespace', 'def', 'comment', 'xrefs']]\n",
    "    \n",
    "go_relations_df = pd.DataFrame(go_relations_df, columns=['start_id', 'end_id', 'type'])\n",
    "non_existing_terms = go_relations_df[ ~ go_relations_df.end_id.isin(existing_go_set)]\n",
    "go_relations_df = go_relations_df[go_relations_df.end_id.isin(existing_go_set)]"
   ]
  },
  {
   "cell_type": "code",
   "execution_count": 5,
   "metadata": {},
   "outputs": [
    {
     "name": "stdout",
     "output_type": "stream",
     "text": [
      "non existing relacije pokazuju na: {'GO'}\n"
     ]
    },
    {
     "data": {
      "text/html": [
       "<div>\n",
       "<style>\n",
       "    .dataframe thead tr:only-child th {\n",
       "        text-align: right;\n",
       "    }\n",
       "\n",
       "    .dataframe thead th {\n",
       "        text-align: left;\n",
       "    }\n",
       "\n",
       "    .dataframe tbody tr th {\n",
       "        vertical-align: top;\n",
       "    }\n",
       "</style>\n",
       "<table border=\"1\" class=\"dataframe\">\n",
       "  <thead>\n",
       "    <tr style=\"text-align: right;\">\n",
       "      <th></th>\n",
       "      <th>start_id</th>\n",
       "      <th>end_id</th>\n",
       "      <th>type</th>\n",
       "    </tr>\n",
       "  </thead>\n",
       "  <tbody>\n",
       "    <tr>\n",
       "      <th>18404</th>\n",
       "      <td>GO:0015223</td>\n",
       "      <td>GO:0051183</td>\n",
       "      <td>consider</td>\n",
       "    </tr>\n",
       "    <tr>\n",
       "      <th>18611</th>\n",
       "      <td>GO:0015339</td>\n",
       "      <td>GO:0015563</td>\n",
       "      <td>consider</td>\n",
       "    </tr>\n",
       "    <tr>\n",
       "      <th>18614</th>\n",
       "      <td>GO:0015340</td>\n",
       "      <td>GO:0015563</td>\n",
       "      <td>consider</td>\n",
       "    </tr>\n",
       "    <tr>\n",
       "      <th>18619</th>\n",
       "      <td>GO:0015342</td>\n",
       "      <td>GO:0015563</td>\n",
       "      <td>consider</td>\n",
       "    </tr>\n",
       "    <tr>\n",
       "      <th>18649</th>\n",
       "      <td>GO:0015356</td>\n",
       "      <td>GO:0015563</td>\n",
       "      <td>consider</td>\n",
       "    </tr>\n",
       "    <tr>\n",
       "      <th>18782</th>\n",
       "      <td>GO:0015429</td>\n",
       "      <td>GO:0015246</td>\n",
       "      <td>consider</td>\n",
       "    </tr>\n",
       "    <tr>\n",
       "      <th>20663</th>\n",
       "      <td>GO:0016563</td>\n",
       "      <td>GO:0001071</td>\n",
       "      <td>consider</td>\n",
       "    </tr>\n",
       "    <tr>\n",
       "      <th>20666</th>\n",
       "      <td>GO:0016564</td>\n",
       "      <td>GO:0001071</td>\n",
       "      <td>consider</td>\n",
       "    </tr>\n",
       "    <tr>\n",
       "      <th>21122</th>\n",
       "      <td>GO:0016986</td>\n",
       "      <td>GO:0001071</td>\n",
       "      <td>consider</td>\n",
       "    </tr>\n",
       "    <tr>\n",
       "      <th>25865</th>\n",
       "      <td>GO:0022815</td>\n",
       "      <td>GO:0022891</td>\n",
       "      <td>replaced_by</td>\n",
       "    </tr>\n",
       "    <tr>\n",
       "      <th>27001</th>\n",
       "      <td>GO:0030528</td>\n",
       "      <td>GO:0001071</td>\n",
       "      <td>consider</td>\n",
       "    </tr>\n",
       "  </tbody>\n",
       "</table>\n",
       "</div>"
      ],
      "text/plain": [
       "         start_id      end_id         type\n",
       "18404  GO:0015223  GO:0051183     consider\n",
       "18611  GO:0015339  GO:0015563     consider\n",
       "18614  GO:0015340  GO:0015563     consider\n",
       "18619  GO:0015342  GO:0015563     consider\n",
       "18649  GO:0015356  GO:0015563     consider\n",
       "18782  GO:0015429  GO:0015246     consider\n",
       "20663  GO:0016563  GO:0001071     consider\n",
       "20666  GO:0016564  GO:0001071     consider\n",
       "21122  GO:0016986  GO:0001071     consider\n",
       "25865  GO:0022815  GO:0022891  replaced_by\n",
       "27001  GO:0030528  GO:0001071     consider"
      ]
     },
     "execution_count": 5,
     "metadata": {},
     "output_type": "execute_result"
    }
   ],
   "source": [
    "print('non existing relacije pokazuju na:', set(x[:2] for x in non_existing_terms.end_id))\n",
    "non_existing_terms"
   ]
  },
  {
   "cell_type": "code",
   "execution_count": 11,
   "metadata": {},
   "outputs": [],
   "source": [
    "goterms_df.to_sql('goterms', db_engine, if_exists='append')\n",
    "go_relations_df.to_sql('go_relations', db_engine, if_exists='append', index=None)"
   ]
  },
  {
   "cell_type": "markdown",
   "metadata": {},
   "source": [
    "Export for Neo4j"
   ]
  },
  {
   "cell_type": "code",
   "execution_count": 205,
   "metadata": {},
   "outputs": [],
   "source": [
    "sql(\"\"\" select id \":ID\", 'GOTerm' \":LABEL\", namespace \":LABEL\", *  from goterms\"\"\").to_csv('db/neo4j/goterms.csv')\n",
    "sql(\"\"\" select start_id \":START_ID\", end_id \":END_ID\", type \":TYPE\"  from go_relations\"\"\").to_csv('db/neo4j/go_relations.csv')"
   ]
  },
  {
   "cell_type": "markdown",
   "metadata": {},
   "source": [
    "# Keywords, Parse & Export"
   ]
  },
  {
   "cell_type": "code",
   "execution_count": 6,
   "metadata": {},
   "outputs": [],
   "source": [
    "%run parsers/keywords_parser.ipynb\n",
    "kw_list = parse_keywlist('data/IN/keywlist.txt')\n",
    "kw_name_dict = {rec.get_name(): rec for rec in kw_list}"
   ]
  },
  {
   "cell_type": "code",
   "execution_count": 7,
   "metadata": {},
   "outputs": [],
   "source": [
    "keywords_df = []\n",
    "kw_parent_df = []\n",
    "kw2go = []\n",
    "\n",
    "for kw in kw_list:\n",
    "    # Mogu da koristim dict umesto tuple ali izgubicu redosled a ovde je OrderDict ruznije praviti od dict\n",
    "    kw_entry = (kw.AC, kw.get_name(), kw.get_category(), kw.get_category_name(), kw.DE, kw.SY, kw.WW)\n",
    "    keywords_df.append(kw_entry)\n",
    "\n",
    "    kw_parent_df.extend( (kw.AC, p) for p in kw.HI)\n",
    "    kw2go.extend( (kw.AC, go) for go in kw.GO)\n",
    "\n",
    "    \n",
    "keywords_df = pd.DataFrame(keywords_df, columns=['ac', 'name', 'category', 'category_name', 'def', 'synonyms', 'ww']).set_index('ac')\n",
    "kw_parent_df = pd.DataFrame(kw_parent_df, columns=['kw', 'parent'])\n",
    "kw2go = pd.DataFrame(kw2go, columns=['kw', 'go'])\n"
   ]
  },
  {
   "cell_type": "code",
   "execution_count": 8,
   "metadata": {},
   "outputs": [
    {
     "data": {
      "text/html": [
       "<div>\n",
       "<style>\n",
       "    .dataframe thead tr:only-child th {\n",
       "        text-align: right;\n",
       "    }\n",
       "\n",
       "    .dataframe thead th {\n",
       "        text-align: left;\n",
       "    }\n",
       "\n",
       "    .dataframe tbody tr th {\n",
       "        vertical-align: top;\n",
       "    }\n",
       "</style>\n",
       "<table border=\"1\" class=\"dataframe\">\n",
       "  <thead>\n",
       "    <tr style=\"text-align: right;\">\n",
       "      <th></th>\n",
       "      <th>kw</th>\n",
       "      <th>go</th>\n",
       "    </tr>\n",
       "  </thead>\n",
       "  <tbody>\n",
       "  </tbody>\n",
       "</table>\n",
       "</div>"
      ],
      "text/plain": [
       "Empty DataFrame\n",
       "Columns: [kw, go]\n",
       "Index: []"
      ]
     },
     "execution_count": 8,
     "metadata": {},
     "output_type": "execute_result"
    }
   ],
   "source": [
    "kw2go[ ~ kw2go['go'].isin(existing_go_set)] # nema nepostojecih veza"
   ]
  },
  {
   "cell_type": "code",
   "execution_count": 15,
   "metadata": {},
   "outputs": [],
   "source": [
    "keywords_df.to_sql(\"keywords\", db_engine, if_exists='append')\n",
    "kw_parent_df.to_sql(\"kw_parent\", db_engine, if_exists='append', index=False)\n",
    "kw2go.to_sql(\"kw2go\", db_engine, if_exists='append', index=False)"
   ]
  },
  {
   "cell_type": "markdown",
   "metadata": {},
   "source": [
    "Export for Neo4j"
   ]
  },
  {
   "cell_type": "code",
   "execution_count": 212,
   "metadata": {},
   "outputs": [],
   "source": [
    "sql(\"\"\" select ac \":ID\", 'Keyword' \":LABEL\", *  from keywords\"\"\").to_csv('db/neo4j/keywords.csv')\n",
    "\n",
    "sql(\"\"\" \n",
    "select kw \":START_ID\", parent \":END_ID\", 'parent' \":TYPE\"  from kw_parent\n",
    "union\n",
    "select kw \":START_ID\", go \":END_ID\", 'map_to' \":TYPE\"  from kw2go\n",
    "\"\"\").to_csv('db/neo4j/kw_relations.csv')"
   ]
  },
  {
   "cell_type": "markdown",
   "metadata": {},
   "source": [
    "# Proteins Export"
   ]
  },
  {
   "cell_type": "code",
   "execution_count": 9,
   "metadata": {},
   "outputs": [],
   "source": [
    "def is_disorderd_40(raw, regions):\n",
    "    return any(l >=40 for _,_,l in regions)"
   ]
  },
  {
   "cell_type": "code",
   "execution_count": 10,
   "metadata": {},
   "outputs": [],
   "source": [
    "import pickle\n",
    "with open('data/predictions/vsl2b_valid.pickle', 'rb') as f:\n",
    "    vsl2b_valid = pickle.load(f)\n",
    "with open('data/predictions/vsl2b_random.pickle', 'rb') as fr:\n",
    "    vsl2b_random = pickle.load(fr)\n",
    "with open('data/predictions/vsl2b_uniform.pickle', 'rb') as fu:\n",
    "    vsl2b_uniform = pickle.load(fu)"
   ]
  },
  {
   "cell_type": "markdown",
   "metadata": {},
   "source": [
    "### OVO MORA BITI POPRAVLJENO !!!\n"
   ]
  },
  {
   "cell_type": "code",
   "execution_count": 11,
   "metadata": {},
   "outputs": [],
   "source": [
    "valid_proteins_df = pd.DataFrame( [(ac, len(raw)) for (ac,raw,_) in vsl2b_valid], columns=['ac', 'len'] ).set_index('ac')\n"
   ]
  },
  {
   "cell_type": "markdown",
   "metadata": {},
   "source": [
    "-------------------------"
   ]
  },
  {
   "cell_type": "code",
   "execution_count": 12,
   "metadata": {},
   "outputs": [
    {
     "data": {
      "text/html": [
       "<div>\n",
       "<style>\n",
       "    .dataframe thead tr:only-child th {\n",
       "        text-align: right;\n",
       "    }\n",
       "\n",
       "    .dataframe thead th {\n",
       "        text-align: left;\n",
       "    }\n",
       "\n",
       "    .dataframe tbody tr th {\n",
       "        vertical-align: top;\n",
       "    }\n",
       "</style>\n",
       "<table border=\"1\" class=\"dataframe\">\n",
       "  <thead>\n",
       "    <tr style=\"text-align: right;\">\n",
       "      <th></th>\n",
       "      <th>len</th>\n",
       "      <th>dis40</th>\n",
       "      <th>dis40_random</th>\n",
       "      <th>dis40_uniform</th>\n",
       "    </tr>\n",
       "    <tr>\n",
       "      <th>ac</th>\n",
       "      <th></th>\n",
       "      <th></th>\n",
       "      <th></th>\n",
       "      <th></th>\n",
       "    </tr>\n",
       "  </thead>\n",
       "  <tbody>\n",
       "    <tr>\n",
       "      <th>A0A060X6Z0</th>\n",
       "      <td>489</td>\n",
       "      <td>True</td>\n",
       "      <td>True</td>\n",
       "      <td>False</td>\n",
       "    </tr>\n",
       "    <tr>\n",
       "      <th>A0A068FIK2</th>\n",
       "      <td>1033</td>\n",
       "      <td>True</td>\n",
       "      <td>True</td>\n",
       "      <td>False</td>\n",
       "    </tr>\n",
       "    <tr>\n",
       "      <th>A0A075F932</th>\n",
       "      <td>421</td>\n",
       "      <td>True</td>\n",
       "      <td>False</td>\n",
       "      <td>False</td>\n",
       "    </tr>\n",
       "    <tr>\n",
       "      <th>A0A078CGE6</th>\n",
       "      <td>1299</td>\n",
       "      <td>True</td>\n",
       "      <td>True</td>\n",
       "      <td>False</td>\n",
       "    </tr>\n",
       "    <tr>\n",
       "      <th>A0A086F3E3</th>\n",
       "      <td>192</td>\n",
       "      <td>False</td>\n",
       "      <td>True</td>\n",
       "      <td>False</td>\n",
       "    </tr>\n",
       "  </tbody>\n",
       "</table>\n",
       "</div>"
      ],
      "text/plain": [
       "             len  dis40  dis40_random  dis40_uniform\n",
       "ac                                                  \n",
       "A0A060X6Z0   489   True          True          False\n",
       "A0A068FIK2  1033   True          True          False\n",
       "A0A075F932   421   True         False          False\n",
       "A0A078CGE6  1299   True          True          False\n",
       "A0A086F3E3   192  False          True          False"
      ]
     },
     "execution_count": 12,
     "metadata": {},
     "output_type": "execute_result"
    }
   ],
   "source": [
    "valid_proteins_df['dis40'] = [is_disorderd_40(raw, regions) for _,raw,regions in vsl2b_valid]\n",
    "valid_proteins_df['dis40_random'] = [is_disorderd_40(raw, regions) for _,raw,regions in vsl2b_random]\n",
    "valid_proteins_df['dis40_uniform'] = [is_disorderd_40(raw, regions) for _,raw,regions in vsl2b_uniform]\n",
    "valid_proteins_df.head()"
   ]
  },
  {
   "cell_type": "markdown",
   "metadata": {},
   "source": [
    "### Save to avlid_proteins"
   ]
  },
  {
   "cell_type": "code",
   "execution_count": 21,
   "metadata": {},
   "outputs": [],
   "source": [
    "valid_proteins_df.to_sql(\"valid_proteins\", db_engine, if_exists='append')"
   ]
  },
  {
   "cell_type": "markdown",
   "metadata": {},
   "source": [
    "## Export Prot -> KW & GO "
   ]
  },
  {
   "cell_type": "code",
   "execution_count": 13,
   "metadata": {},
   "outputs": [],
   "source": [
    "from Bio import SeqIO"
   ]
  },
  {
   "cell_type": "code",
   "execution_count": 14,
   "metadata": {},
   "outputs": [],
   "source": [
    "with open(\"./data/IN/valid_proteins.fasta\") as handle:\n",
    "    valid_cafa_seq = list( SeqIO.parse(handle, 'fasta') )\n",
    "    valid_cafa_ac = {seq.id for seq in valid_cafa_seq}"
   ]
  },
  {
   "cell_type": "code",
   "execution_count": 15,
   "metadata": {},
   "outputs": [],
   "source": [
    "with open(\"./data/IN/uniprot/uniprot_sprot.dat\") as handle:\n",
    "    swiss_seq = [ rec for rec in SeqIO.parse(handle, \"swiss\") if\n",
    "                    any(ac in valid_cafa_ac for ac in rec.annotations[\"accessions\"]) ]\n"
   ]
  },
  {
   "cell_type": "code",
   "execution_count": 16,
   "metadata": {},
   "outputs": [
    {
     "data": {
      "text/plain": [
       "(66584, 66599)"
      ]
     },
     "execution_count": 16,
     "metadata": {},
     "output_type": "execute_result"
    }
   ],
   "source": [
    "len(swiss_seq), len(valid_cafa_ac)"
   ]
  },
  {
   "cell_type": "code",
   "execution_count": 17,
   "metadata": {},
   "outputs": [],
   "source": [
    "prot2kw_df = [ (kw_name_dict[kw].AC, rec.id) for \n",
    "             rec in swiss_seq for kw  in rec.annotations.get('keywords', []) if rec.id in valid_cafa_ac]               \n",
    "prot2kw_df = pd.DataFrame(prot2kw_df, columns=['kw', 'prot'])"
   ]
  },
  {
   "cell_type": "code",
   "execution_count": 18,
   "metadata": {},
   "outputs": [],
   "source": [
    "prot2kw_df.to_sql(\"prot2kw\", db_engine, if_exists='append', index=False)"
   ]
  },
  {
   "cell_type": "markdown",
   "metadata": {},
   "source": [
    "***"
   ]
  },
  {
   "cell_type": "code",
   "execution_count": 19,
   "metadata": {},
   "outputs": [
    {
     "data": {
      "text/html": [
       "<div>\n",
       "<style>\n",
       "    .dataframe thead tr:only-child th {\n",
       "        text-align: right;\n",
       "    }\n",
       "\n",
       "    .dataframe thead th {\n",
       "        text-align: left;\n",
       "    }\n",
       "\n",
       "    .dataframe tbody tr th {\n",
       "        vertical-align: top;\n",
       "    }\n",
       "</style>\n",
       "<table border=\"1\" class=\"dataframe\">\n",
       "  <thead>\n",
       "    <tr style=\"text-align: right;\">\n",
       "      <th></th>\n",
       "      <th>prot</th>\n",
       "      <th>go</th>\n",
       "    </tr>\n",
       "  </thead>\n",
       "  <tbody>\n",
       "    <tr>\n",
       "      <th>0</th>\n",
       "      <td>P0DJZ0</td>\n",
       "      <td>GO:0030430</td>\n",
       "    </tr>\n",
       "    <tr>\n",
       "      <th>1</th>\n",
       "      <td>P0DJZ0</td>\n",
       "      <td>GO:0039526</td>\n",
       "    </tr>\n",
       "    <tr>\n",
       "      <th>2</th>\n",
       "      <td>P32234</td>\n",
       "      <td>GO:0005525</td>\n",
       "    </tr>\n",
       "    <tr>\n",
       "      <th>3</th>\n",
       "      <td>P83010</td>\n",
       "      <td>GO:0005783</td>\n",
       "    </tr>\n",
       "    <tr>\n",
       "      <th>4</th>\n",
       "      <td>P83010</td>\n",
       "      <td>GO:0043231</td>\n",
       "    </tr>\n",
       "  </tbody>\n",
       "</table>\n",
       "</div>"
      ],
      "text/plain": [
       "     prot          go\n",
       "0  P0DJZ0  GO:0030430\n",
       "1  P0DJZ0  GO:0039526\n",
       "2  P32234  GO:0005525\n",
       "3  P83010  GO:0005783\n",
       "4  P83010  GO:0043231"
      ]
     },
     "execution_count": 19,
     "metadata": {},
     "output_type": "execute_result"
    }
   ],
   "source": [
    "prot2go_df = [ (rec.id, go[3:]) for\n",
    "           rec in swiss_seq for go  in rec.dbxrefs \n",
    "           if go.startswith(\"GO:\") and rec.id in valid_cafa_ac and go[3:] in existing_go_set ]               \n",
    "prot2go_df = pd.DataFrame(prot2go_df, columns=['prot', 'go'])\n",
    "prot2go_df.head()"
   ]
  },
  {
   "cell_type": "code",
   "execution_count": 20,
   "metadata": {},
   "outputs": [],
   "source": [
    "prot2go_df.to_sql(\"prot2go\", db_engine, if_exists='append', index=False)"
   ]
  },
  {
   "cell_type": "raw",
   "metadata": {},
   "source": [
    "prot2go_df.to_csv(\"data/IN/prot2go_df.csv\", index=False)\n",
    "\n",
    "db_engine.execute(r\"\"\"\n",
    "COPY prot2go FROM '/home/goksi/Desktop/Projects/master/data/IN/prot2go_df.csv' DELIMITER ',' CSV HEADER;\n",
    "\"\"\")\n",
    "\n",
    "%rm data/IN/prot2go_df.csv"
   ]
  },
  {
   "cell_type": "markdown",
   "metadata": {},
   "source": [
    "Export to Neo4j"
   ]
  },
  {
   "cell_type": "code",
   "execution_count": 218,
   "metadata": {},
   "outputs": [],
   "source": [
    "sql(\"\"\" select ac \":ID\", 'Protein' \":LABEL\", * from valid_proteins \"\"\").to_csv(\"db/neo4j/proteins.csv\")"
   ]
  },
  {
   "cell_type": "code",
   "execution_count": 257,
   "metadata": {},
   "outputs": [],
   "source": [
    "sql(\"\"\" \n",
    "select prot \":START_ID\", kw \":END_ID\", 'kw' \":TYPE\" from prot2kw \n",
    "union\n",
    "select prot \":START_ID\", go \":END_ID\", 'go' \":TYPE\" from prot2go \n",
    "\"\"\").to_csv(\"db/neo4j/prot_relations.csv\")"
   ]
  },
  {
   "cell_type": "markdown",
   "metadata": {},
   "source": [
    "# Build Neo4j databse"
   ]
  },
  {
   "cell_type": "markdown",
   "metadata": {},
   "source": [
    "Pre pokretanja bulid.sh moramo da namestimo defaultnu bazu koju ce neo4j da koristi. Nisam istrazivao druge mogucnosti\n",
    "\n",
    "Editovati neo4j/conf/neo4j.conf i promeniti dbms.active_database=**master.db**"
   ]
  },
  {
   "cell_type": "code",
   "execution_count": 22,
   "metadata": {},
   "outputs": [
    {
     "name": "stdout",
     "output_type": "stream",
     "text": [
      "Overwriting db/neo4j/make.cypher\n"
     ]
    }
   ],
   "source": [
    "%%writefile db/neo4j/make.cypher\n",
    "create index on :GOTerm(id);\n",
    "create index on :GOTerm(name);\n",
    "create index on :Keyword(id);\n",
    "create index on :Keyword(name);\n",
    "\n",
    "MATCH (k:Keyword)\n",
    "where k.name in [\"Ribonucleoprotein\", \"Ribosomal protein\", \"Developmental protein\", \"Hormone\", \"Growth factor\", \"Cytokine\", \"Neuropeptide\", \"Activator\", \"Gap protein\", \"Repressor\", \"Chromatin regulator\", \"Pyrogen\", \"Vasoactive\", \"Amphibian defense peptide\", \"GTPase activation\", \"Endorphin\", \"Opioid peptide\", \"Protein phosphatase inhibitor\", \"Cyclin\"]\n",
    "set k :mf20dis;\n",
    "\n",
    "MATCH (k2:Keyword)\n",
    "where k2.name in [\"Oxidoreductase\", \"Transferase \", \"Lyase\", \"Hydrolase \", \"Isomerase\", \"Glycosidase\", \"Glycosyltransferase\", \"Acyltransferase\", \"Methyltransferase\", \"Kinase\", \"Ligase\", \"Decarboxylase\", \"Monooxygenase\", \"Metalloprotease\", \"Aminopeptidase\", \"Dioxygenase\", \"Aminoacyl-tRNA synthetase\", \"Protease\", \"Aminotransferase\"]\n",
    "set k2 :mf20ord;\n"
   ]
  },
  {
   "cell_type": "markdown",
   "metadata": {},
   "source": [
    "# build.sh nece da radi iz notebooka ... ??? :(\n"
   ]
  }
 ],
 "metadata": {
  "kernelspec": {
   "display_name": "Python [conda env:master]",
   "language": "python",
   "name": "conda-env-master-py"
  },
  "language_info": {
   "codemirror_mode": {
    "name": "ipython",
    "version": 3
   },
   "file_extension": ".py",
   "mimetype": "text/x-python",
   "name": "python",
   "nbconvert_exporter": "python",
   "pygments_lexer": "ipython3",
   "version": "3.6.3"
  }
 },
 "nbformat": 4,
 "nbformat_minor": 2
}
