{
 "cells": [
  {
   "cell_type": "code",
   "execution_count": 66,
   "metadata": {},
   "outputs": [],
   "source": [
    "from Bio import SeqIO\n",
    "from Bio import SwissProt\n",
    "from pprint import pprint\n",
    "%run settings/db_connect.ipynb"
   ]
  },
  {
   "cell_type": "code",
   "execution_count": 67,
   "metadata": {},
   "outputs": [],
   "source": [
    "kw_name2ac = sql(\"select name, ac from keywords\").ac.to_dict()\n",
    "go_mf_set = set( sql(\"select id from goterms where namespace='MF'\").index )"
   ]
  },
  {
   "cell_type": "code",
   "execution_count": 68,
   "metadata": {},
   "outputs": [],
   "source": [
    "handle = open(\"./data/IN/uniprot/uniprot_sprot.dat\")"
   ]
  },
  {
   "cell_type": "code",
   "execution_count": 69,
   "metadata": {},
   "outputs": [],
   "source": [
    "sp_iterator = SwissProt.parse(handle)"
   ]
  },
  {
   "cell_type": "code",
   "execution_count": 61,
   "metadata": {},
   "outputs": [],
   "source": [
    "entry = next(sp_iterator)"
   ]
  },
  {
   "cell_type": "code",
   "execution_count": 70,
   "metadata": {},
   "outputs": [],
   "source": [
    "def to_sql_array(ls):\n",
    "    return  \"{%s}\" % \",\".join('\"%s\"'%x for x in ls)"
   ]
  },
  {
   "cell_type": "code",
   "execution_count": 71,
   "metadata": {},
   "outputs": [],
   "source": [
    "records = []\n",
    "\n",
    "for e in sp_iterator:\n",
    "# for e in [entry]:\n",
    "    go = [(go, rest[0][0]) for cr_id, go, *rest in e.cross_references if cr_id ==\"GO\"]\n",
    "    gomf = [go for go, namespace in go if namespace =='F']\n",
    "    kw = [kw_name2ac[name] for name in e.keywords]\n",
    "    \n",
    "    record = \\\n",
    "    ( e.accessions[0]            #ID, zapravo primarni AC\n",
    "    , e.entry_name               #name, zapravo ID (terminologija...)\n",
    "    , to_sql_array(e.accessions[1:])           #rest of accsesions\n",
    "\n",
    "    , e.organism_classification[-1]\n",
    "    , e.PE\n",
    "    , to_sql_array(kw)\n",
    "    , \"{%s}\" % \", \".join(to_sql_array(x) for x in go)\n",
    "    , to_sql_array(gomf)\n",
    "    , e.sequence_length\n",
    "    , e.sequence\n",
    "    )\n",
    "    \n",
    "    records.append(record)\n",
    "    \n",
    "records = pd.DataFrame(records, columns=[\"id\", 'name', 'accessions', 'organism', 'pe', 'kw', 'go', 'gomf', 'seq_length', 'seq']).set_index('id')"
   ]
  },
  {
   "cell_type": "code",
   "execution_count": 72,
   "metadata": {},
   "outputs": [],
   "source": [
    "records.to_sql(\"swissprot\", db_engine, if_exists='append', chunksize=1000)\n",
    "# df = pd.read_csv('./data/IN/uniprot/swiss_prot.csv').set_index('id')"
   ]
  },
  {
   "cell_type": "code",
   "execution_count": 119,
   "metadata": {},
   "outputs": [],
   "source": [
    "# records.to_csv('./data/IN/uniprot/swiss_prot.csv')"
   ]
  },
  {
   "cell_type": "code",
   "execution_count": 24,
   "metadata": {},
   "outputs": [],
   "source": []
  }
 ],
 "metadata": {
  "kernelspec": {
   "display_name": "Python [conda env:master]",
   "language": "python",
   "name": "conda-env-master-py"
  },
  "language_info": {
   "codemirror_mode": {
    "name": "ipython",
    "version": 3
   },
   "file_extension": ".py",
   "mimetype": "text/x-python",
   "name": "python",
   "nbconvert_exporter": "python",
   "pygments_lexer": "ipython3",
   "version": "3.6.3"
  }
 },
 "nbformat": 4,
 "nbformat_minor": 2
}
