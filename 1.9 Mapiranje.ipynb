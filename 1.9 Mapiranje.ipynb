{
 "cells": [
  {
   "cell_type": "code",
   "execution_count": 1,
   "metadata": {},
   "outputs": [],
   "source": [
    "import numpy as np\n",
    "import pandas as pd\n",
    "\n",
    "%run settings/plt_settings.ipynb\n",
    "%run settings/db_connect.ipynb"
   ]
  },
  {
   "cell_type": "code",
   "execution_count": 2,
   "metadata": {},
   "outputs": [],
   "source": [
    "def sort_by_groups(df):\n",
    "    group_list = [group_df for _, group_df in df.groupby('kw')] \n",
    "    return pd.concat( sorted( group_list, key= lambda x: x.iloc[0].score, reverse=True ) ).reset_index()\n",
    "    "
   ]
  },
  {
   "cell_type": "code",
   "execution_count": 3,
   "metadata": {},
   "outputs": [],
   "source": [
    "mmr = pd.read_csv(\"data/missing_mapping_raw.csv\")\n",
    "remmoved_kw_names = { kw_name for kw_name, group in mmr.groupby('kw_name') if group.iloc[0]['score'] < 0.1}\n",
    "mmr_filterd = mmr[~ mmr.kw_name.isin(remmoved_kw_names)]\n",
    "mmr_filterd = sort_by_groups(mmr_filterd)"
   ]
  },
  {
   "cell_type": "code",
   "execution_count": 7,
   "metadata": {},
   "outputs": [
    {
     "name": "stdout",
     "output_type": "stream",
     "text": [
      "25\n"
     ]
    },
    {
     "data": {
      "text/plain": [
       "(89, 64)"
      ]
     },
     "execution_count": 7,
     "metadata": {},
     "output_type": "execute_result"
    }
   ],
   "source": [
    "print(len(remmoved_kw_names))\n",
    "len(mmr.query('R==1')), len(mmr_filterd.query('R==1'))"
   ]
  },
  {
   "cell_type": "code",
   "execution_count": 217,
   "metadata": {},
   "outputs": [],
   "source": [
    "mmr_filterd.to_csv(\"data/missing_mapping_raw_filterd.csv\")\n",
    "mmr_filterd.set_index(\"kw\").query('R==1')[['go']]\\\n",
    "           .to_csv(\"data/missing_mapping.csv\")"
   ]
  },
  {
   "cell_type": "code",
   "execution_count": 218,
   "metadata": {},
   "outputs": [],
   "source": [
    "mmr_filterd.query('R==1') [['kw_name', 'n_kw', 'score', 'n_go', 'go_name']]\\\n",
    "           .set_index('kw_name')\\\n",
    "           .to_csv(\"data/OUT/missing_mapping_table.csv\")"
   ]
  },
  {
   "cell_type": "code",
   "execution_count": 219,
   "metadata": {},
   "outputs": [
    {
     "name": "stdout",
     "output_type": "stream",
     "text": [
      "                 Dermonecrotic toxin (0.96) -->  phospholipase D activity\n",
      "                   Ribosomal protein (0.91) -->  structural constituent of ribosome\n",
      "   Complement system impairing toxin (0.81) -->  phospholipase D activity\n",
      "                       Hemagglutinin (0.75) -->  host cell surface receptor binding\n",
      "                     Mutator protein (0.75) -->  damaged DNA binding\n",
      "                  Antifreeze protein (0.70) -->  ice binding\n",
      "        Light-harvesting polypeptide (0.68) -->  bacteriochlorophyll binding\n",
      "                              Cyclin (0.61) -->  cyclin-dependent protein serine/threonine kinase regulator activity\n",
      "                            Defensin (0.55) -->  CCR6 chemokine receptor binding\n",
      "                   Ribonucleoprotein (0.54) -->  rRNA binding\n",
      "                          Neurotoxin (0.53) -->  toxin activity\n",
      "                        Photoprotein (0.48) -->  alkanal monooxygenase (FMN-linked) activity\n",
      "                           Endorphin (0.45) -->  opioid peptide activity\n",
      "                    Mobility protein (0.43) -->  DNA topoisomerase type I activity\n",
      "         Protein synthesis inhibitor (0.43) -->  rRNA N-glycosylase activity\n",
      "                        Neuropeptide (0.42) -->  neuropeptide hormone activity\n",
      "       Signal transduction inhibitor (0.38) -->  GTPase activator activity\n",
      "                             Mitogen (0.37) -->  growth factor activity\n",
      "                           Repressor (0.33) -->  DNA binding\n",
      "                           Chaperone (0.31) -->  ATP binding\n",
      "                              Myosin (0.31) -->  motor activity\n",
      "                 Viral nucleoprotein (0.31) -->  structural molecule activity\n",
      "                   Pair-rule protein (0.29) -->  RNA polymerase II sequence-specific DNA binding transcription factor binding\n",
      "                               Prion (0.28) -->  copper ion binding\n",
      "                        Milk protein (0.27) -->  transporter activity\n",
      "                       Motor protein (0.27) -->  microtubule motor activity\n",
      "                             Pyrogen (0.27) -->  interleukin-1 receptor binding\n",
      "                           Activator (0.26) -->  DNA binding\n",
      "                 Bence-Jones protein (0.26) -->  antigen binding\n",
      "             Serine protease homolog (0.26) -->  hemoglobin binding\n",
      "                     Thyroid hormone (0.25) -->  thyroid hormone binding\n",
      "                   Antiviral protein (0.23) -->  ribonuclease III activity\n",
      "            Ligand-gated ion channel (0.23) -->  acetylcholine-gated cation-selective channel activity\n",
      "                       Actin capping (0.22) -->  actin binding\n",
      "              Presynaptic neurotoxin (0.22) -->  phospholipase A2 activity (consuming 1,2-dipalmitoylphosphatidylcholine)\n",
      "                     Retinal protein (0.22) -->  G-protein coupled photoreceptor activity\n",
      "                           Fungicide (0.21) -->  chitin binding\n",
      "                            Receptor (0.21) -->  G-protein coupled receptor activity\n",
      "                    Neurotransmitter (0.20) -->  opioid peptide activity\n",
      "                       Antimicrobial (0.19) -->  lysozyme activity\n",
      "         Suppressor of RNA silencing (0.19) -->  ATP-dependent helicase activity\n",
      " Blood coagulation cascade inhibiting toxin (0.19) -->  phospholipase A2 activity\n",
      "       Cell adhesion impairing toxin (0.19) -->  metalloendopeptidase activity\n",
      "             Taste-modifying protein (0.18) -->  nutrient reservoir activity\n",
      "       Segmentation polarity protein (0.17) -->  morphogen activity\n",
      "                          Vasoactive (0.17) -->  hormone activity\n",
      " Platelet aggregation inhibiting toxin (0.17) -->  phospholipase A2 activity\n",
      "                      Muscle protein (0.16) -->  calcium ion binding\n",
      "                     Vasoconstrictor (0.16) -->  neurohypophyseal hormone activity\n",
      "                            Myotoxin (0.16) -->  phospholipase A2 activity\n",
      "          Hemostasis impairing toxin (0.16) -->  toxin activity\n",
      " Blood coagulation cascade activating toxin (0.16) -->  peptidase activator activity\n",
      "                            Integrin (0.14) -->  cell adhesion molecule binding\n",
      "                   Hypotensive agent (0.13) -->  metalloendopeptidase inhibitor activity\n",
      "                   Hemorrhagic toxin (0.13) -->  metalloendopeptidase activity\n",
      "              Fibrinogenolytic toxin (0.13) -->  metalloendopeptidase activity\n",
      " Voltage-gated calcium channel impairing toxin (0.13) -->  calcium channel inhibitor activity\n",
      "                 Chromatin regulator (0.12) -->  chromatin binding\n",
      "               Developmental protein (0.12) -->  sequence-specific DNA binding\n",
      "             Postsynaptic neurotoxin (0.12) -->  toxin activity\n",
      "              Viral movement protein (0.11) -->  cysteine-type endopeptidase activity\n",
      " Voltage-gated potassium channel impairing toxin (0.11) -->  serine-type endopeptidase inhibitor activity\n",
      "                         Bacteriocin (0.10) -->  receptor binding\n",
      "        Pathogenesis-related protein (0.10) -->  glucan endo-1,3-beta-D-glucosidase activity\n"
     ]
    }
   ],
   "source": [
    "for i, first_row in mmr_filterd.query('R==1').iterrows():\n",
    "    print(' %35s (%0.2f) -->  %s' % tuple(first_row[['kw_name', 'score', 'go_name']]))"
   ]
  },
  {
   "cell_type": "code",
   "execution_count": null,
   "metadata": {},
   "outputs": [],
   "source": []
  }
 ],
 "metadata": {
  "kernelspec": {
   "display_name": "Python [conda env:master]",
   "language": "python",
   "name": "conda-env-master-py"
  },
  "language_info": {
   "codemirror_mode": {
    "name": "ipython",
    "version": 3
   },
   "file_extension": ".py",
   "mimetype": "text/x-python",
   "name": "python",
   "nbconvert_exporter": "python",
   "pygments_lexer": "ipython3",
   "version": "3.6.3"
  }
 },
 "nbformat": 4,
 "nbformat_minor": 2
}
