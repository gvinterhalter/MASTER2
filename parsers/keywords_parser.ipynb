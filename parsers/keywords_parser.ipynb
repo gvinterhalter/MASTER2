{
 "cells": [
  {
   "cell_type": "markdown",
   "metadata": {},
   "source": [
    "# Keywords parser"
   ]
  },
  {
   "cell_type": "markdown",
   "metadata": {},
   "source": [
    "Description: Controlled vocabulary of keywords  \n",
    "Name:        keywlist.txt  \n",
    "Release:     2017_12 of 20-Dec-2017  \n",
    " \n",
    "---------------------------------------------------------------------------\n",
    "\n",
    "  This document lists the keywords and categories used in the UniProt\n",
    "  knowledgebase (Swiss-Prot and TrEMBL). The keywords are classified into\n",
    "  the following 10 categories:\n",
    "\n",
    "    * Biological process\n",
    "    * Cellular component\n",
    "    * Coding sequence diversity\n",
    "    * Developmental stage\n",
    "    * Disease\n",
    "    * Domain\n",
    "    * Ligand\n",
    "    * Molecular function\n",
    "    * PTM\n",
    "    * Technical term\n",
    "\n",
    "  The definition of the keywords and categories usage as well as other\n",
    "  information is provided in the following format:\n",
    "```\n",
    "\n",
    "  ---------  ---------------------------     ------------------------------\n",
    "  Line code  Content                         Occurrence in an entry\n",
    "  ---------  ---------------------------     ------------------------------\n",
    "  ID         Identifier (keyword)            Once; starts a keyword entry\n",
    "  IC         Identifier (category)           Once; starts a category entry\n",
    "  AC         Accession (KW-xxxx)             Once\n",
    "  DE         Definition                      Once or more\n",
    "  SY         Synonyms                        Optional; once or more\n",
    "  GO         Gene ontology (GO) mapping      Optional; once or more\n",
    "  HI         Hierarchy                       Optional; once or more\n",
    "  WW         Relevant WWW site               Optional; once or more\n",
    "  CA         Category                        Once per keyword entry;\n",
    "                                             absent in category entries\n",
    "  //         Terminator                      Once; ends an entry\n",
    " ```\n"
   ]
  },
  {
   "cell_type": "code",
   "execution_count": 34,
   "metadata": {},
   "outputs": [],
   "source": [
    "import re\n",
    "import mmap"
   ]
  },
  {
   "cell_type": "code",
   "execution_count": 52,
   "metadata": {},
   "outputs": [],
   "source": [
    "class Keyword():\n",
    "    def __init__(self, kw): self.__dict__.update(kw)\n",
    "    def get_name(self):     return self.ID if 'ID' in self.__dict__ else self.IC\n",
    "    def get_category(self): return None if self.is_category() else self.CA\n",
    "    def get_category_name(self): return None if self.is_category() else self.category_name\n",
    "\n",
    "\n",
    "    def is_category(self):  return 'IC' in self.__dict__\n",
    "    def is_keyword(self):   return not self.is_category()\n",
    "    \n",
    "    def __getattr__(self, attr): return self.__dict__.get(attr, None)\n",
    "    def __repr__(self): return repr(self.__dict__)\n",
    "    def __str__(self): return repr(self)"
   ]
  },
  {
   "cell_type": "code",
   "execution_count": 51,
   "metadata": {},
   "outputs": [],
   "source": [
    "def parse_keywlist(path):\n",
    "\n",
    "    kw_re = re.compile(rb'^(ID|IC) \\s+ ([^.]+) .\\s+  AC \\s+ (KW-\\d{4}) \\s+ (.+?)^//', re.X | re.M | re.S)\n",
    "    kw_split_re = re.compile('\\s*[;:]\\s*')\n",
    "\n",
    "    kw_list = []\n",
    "\n",
    "    with open(path, 'rb+') as file:\n",
    "        mem = mmap.mmap(file.fileno(), 0)\n",
    "\n",
    "        for m in kw_re.finditer(mem):\n",
    "            id_type, id_value, AC, lines = [x.decode() for x in m.groups()]\n",
    "            rec = Keyword( {id_type:id_value, 'AC': AC, 'GO':[], 'HI':set(), 'WW':[], 'SY': [], 'DE': ''} )\n",
    "            \n",
    "            for line in lines.split('\\n'):\n",
    "                k, v = line[:2], line[5:].strip('.')\n",
    "                \n",
    "                \n",
    "                if k=='DE':\n",
    "                    rec.DE += ' %s'%v\n",
    "                elif k=='SY':\n",
    "                    rec.SY = [w.strip() for w in v.split(';') ]\n",
    "                elif(k=='GO'):\n",
    "                    rec.GO.append( v[:10] )\n",
    "                elif(k=='HI'):\n",
    "                    rec.HI.add( kw_split_re.split(v)[-2] ) # -1 is ID, -2 is predecessor\n",
    "                elif(k=='CA'):\n",
    "                    rec.CA = v\n",
    "                elif(k=='WW'):\n",
    "                    rec.WW.append(v)\n",
    "\n",
    "            kw_list.append(rec)\n",
    "            \n",
    "    kw_name = {rec.get_name():rec for rec in kw_list}\n",
    "    for rec in kw_list:\n",
    "        rec.HI = [kw_name[x].AC for x in rec.HI]\n",
    "        rec.category_name = rec.CA\n",
    "        rec.CA = None if rec.is_category() else kw_name[rec.CA].AC\n",
    "\n",
    "    return kw_list"
   ]
  },
  {
   "cell_type": "code",
   "execution_count": 37,
   "metadata": {},
   "outputs": [],
   "source": []
  }
 ],
 "metadata": {
  "kernelspec": {
   "display_name": "Python [conda env:master]",
   "language": "python",
   "name": "conda-env-master-py"
  },
  "language_info": {
   "codemirror_mode": {
    "name": "ipython",
    "version": 3
   },
   "file_extension": ".py",
   "mimetype": "text/x-python",
   "name": "python",
   "nbconvert_exporter": "python",
   "pygments_lexer": "ipython3",
   "version": "3.6.3"
  }
 },
 "nbformat": 4,
 "nbformat_minor": 2
}
