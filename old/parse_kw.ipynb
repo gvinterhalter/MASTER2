{
 "cells": [
  {
   "cell_type": "code",
   "execution_count": 264,
   "metadata": {
    "collapsed": true,
    "nbpresent": {
     "id": "907affe2-3dbd-4f71-bdbb-88042be07dad"
    }
   },
   "outputs": [],
   "source": [
    "import re\n",
    "import mmap\n",
    "from pprint import pprint"
   ]
  },
  {
   "cell_type": "code",
   "execution_count": 707,
   "metadata": {
    "collapsed": true,
    "nbpresent": {
     "id": "ab1677e2-045d-4ae3-a0e1-6dedd61a9f17"
    }
   },
   "outputs": [],
   "source": [
    "class Keyword():\n",
    "    def __init__(self, kw): self.__dict__.update(kw, GO=[], HI=set(), WW=[])\n",
    "    def get_name(self):     return self.ID if 'ID' in self.__dict__ else self.IC\n",
    "    def get_category(self): return self.CA if 'ID' in self.__dict__ else self.IC\n",
    "    def is_category(self):  return 'IC' in self.__dict__\n",
    "    def is_keyword(self):   return 'ID' in self.__dict__\n",
    "\n",
    "id_re = re.compile(rb'(ID|IC) \\s+ ([^.]+) .\\s+  AC \\s+ (KW-\\d{4}) \\s+', re.X)\n",
    "multiline_re = re.compile(rb'//\\s+|(\\w\\w)\\s+([^\\.]+)\\.\\s+', re.S)\n",
    "kw_split_re = re.compile(rb'\\s*[;:]\\s*')\n",
    "\n",
    "kw_names = {}\n",
    "kw_acs = {}\n",
    "\n",
    "with open('data/keywlist.txt', 'rb+') as file:\n",
    "    mem = mmap.mmap(file.fileno(), 0)\n",
    "    pos = re.search(b'^ID', mem, re.M).start()\n",
    "    \n",
    "    while True:\n",
    "        m = id_re.match(mem, pos)\n",
    "        if not m:\n",
    "            break\n",
    "                     \n",
    "        id_type, id_value, AC = m.groups()\n",
    "        rec = Keyword( {id_type.decode():id_value, 'AC': AC} )\n",
    "\n",
    "    \n",
    "        for m in multiline_re.finditer(mem, m.end()):\n",
    "            k, v= m.groups()\n",
    "\n",
    "            if not k: \n",
    "                pos = m.end() # got '//' update pos for the next kw\n",
    "                break\n",
    "                \n",
    "            k = k.decode()\n",
    "        \n",
    "            if k=='DE':\n",
    "                rec.DE = v.replace(b'\\nDE   ', b' ')\n",
    "            elif k=='SY':\n",
    "                rec.SY = [w.strip() for w in v.replace(b'\\nSY   ', b'').split(b';') ]\n",
    "            elif(k=='GO'):\n",
    "                rec.GO.append( v[:10] )\n",
    "            elif(k=='HI'):\n",
    "                rec.HI.add( kw_split_re.split(v)[-2] ) # -1 is ID, -2 is predecessor\n",
    "            elif(k=='CA'):\n",
    "                rec.CA = v\n",
    "            elif(k=='WW'):\n",
    "                rec.WW.append(v)\n",
    "                \n",
    "        kw_acs[rec.AC] = rec\n",
    "        kw_names[ rec.get_name() ] = rec\n",
    "            \n",
    "        #pprint(rec)\n",
    "        #break # debug"
   ]
  },
  {
   "cell_type": "code",
   "execution_count": 641,
   "metadata": {},
   "outputs": [
    {
     "name": "stdout",
     "output_type": "stream",
     "text": [
      "b'Biological process' b'KW-9999'\n",
      "b'Cellular component' b'KW-9998'\n",
      "b'Coding sequence diversity' b'KW-9997'\n",
      "b'Developmental stage' b'KW-9996'\n",
      "b'Disease' b'KW-9995'\n",
      "b'Domain' b'KW-9994'\n",
      "b'Ligand' b'KW-9993'\n",
      "b'Molecular function' b'KW-9992'\n",
      "b'PTM' b'KW-9991'\n",
      "b'Technical term' b'KW-9990'\n"
     ]
    }
   ],
   "source": [
    "for name, rec in kw_names.items():\n",
    "    if rec.is_category():\n",
    "        print(rec.get_name(), rec.AC)\n",
    "        "
   ]
  },
  {
   "cell_type": "code",
   "execution_count": 644,
   "metadata": {
    "collapsed": true
   },
   "outputs": [],
   "source": [
    "from GO.obo_parser import  *"
   ]
  },
  {
   "cell_type": "code",
   "execution_count": 704,
   "metadata": {},
   "outputs": [
    {
     "name": "stdout",
     "output_type": "stream",
     "text": [
      "CPU times: user 1min 19s, sys: 332 ms, total: 1min 19s\n",
      "Wall time: 1min 19s\n"
     ]
    }
   ],
   "source": [
    "%%time\n",
    "with open(\"data/go.obo\", \"r\") as obo_file:\n",
    "    terms = parser.parse(obo_file.read())\n",
    "    "
   ]
  },
  {
   "cell_type": "code",
   "execution_count": 671,
   "metadata": {},
   "outputs": [
    {
     "data": {
      "text/plain": [
       "47071"
      ]
     },
     "execution_count": 671,
     "metadata": {},
     "output_type": "execute_result"
    }
   ],
   "source": [
    "len(terms)"
   ]
  },
  {
   "cell_type": "code",
   "execution_count": 678,
   "metadata": {},
   "outputs": [],
   "source": [
    "import json\n",
    "with open(\"data/go.json\", \"w\") as obo_file:\n",
    "    json.dump([x.__dict__ for x in terms],obo_file, indent=4, )"
   ]
  },
  {
   "cell_type": "code",
   "execution_count": 679,
   "metadata": {},
   "outputs": [
    {
     "name": "stdout",
     "output_type": "stream",
     "text": [
      "CPU times: user 1.67 s, sys: 180 ms, total: 1.85 s\n",
      "Wall time: 1.86 s\n"
     ]
    }
   ],
   "source": [
    "%%time\n",
    "with open(\"data/go.json\", \"r\") as obo_file:\n",
    "    terms_list = json.load(obo_file)"
   ]
  }
 ],
 "metadata": {
  "kernelspec": {
   "display_name": "Python [default]",
   "language": "python",
   "name": "python3"
  },
  "language_info": {
   "codemirror_mode": {
    "name": "ipython",
    "version": 3
   },
   "file_extension": ".py",
   "mimetype": "text/x-python",
   "name": "python",
   "nbconvert_exporter": "python",
   "pygments_lexer": "ipython3",
   "version": "3.6.3"
  },
  "nbpresent": {
   "slides": {},
   "themes": {
    "default": "0b847bf1-f6d7-45a0-9bda-9e403f2f8077",
    "theme": {}
   }
  }
 },
 "nbformat": 4,
 "nbformat_minor": 2
}
